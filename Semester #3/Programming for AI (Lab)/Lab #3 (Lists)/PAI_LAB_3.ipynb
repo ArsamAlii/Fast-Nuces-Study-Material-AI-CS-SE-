{
 "cells": [
  {
   "cell_type": "markdown",
   "metadata": {
    "id": "whj7WWyfi3KX"
   },
   "source": [
    "<div style=\"text-align:center; font-size:24px; font-weight:bold;\">AL2001-Programming For AI</div>\n",
    "<br>\n",
    "<div style=\"text-align:center; font-size:24px; font-weight:bold;\">Instructor: Muhammad Saad Rashad</div>\n",
    "<br>\n",
    "<div style=\"text-align:center; font-size:18px; font-weight:bold;\">email: saad.rashad@nu.edu.pk</div>\n"
   ]
  },
  {
   "cell_type": "markdown",
   "metadata": {
    "id": "KwOoEok6i3Ke"
   },
   "source": [
    "# **1 Lists:**\n",
    "- Ordered sequence of information, accessible by index\n",
    "- A list is denoted by square brackets, [ ]\n",
    "- A list contains elements\n",
    "> 1.   usually homogeneous (ie, all integers)\n",
    "> 2.   can contain mixed types (not common)\n",
    "- List elements can be changed so a list is mutable\n"
   ]
  },
  {
   "cell_type": "code",
   "execution_count": 68,
   "metadata": {
    "colab": {
     "base_uri": "https://localhost:8080/",
     "height": 0
    },
    "id": "W-2ltRUUi3Kg",
    "outputId": "ea4e210a-f21e-4606-8a30-c47eb5854b82"
   },
   "outputs": [
    {
     "name": "stdout",
     "output_type": "stream",
     "text": [
      "['Apple', 'Mangoes', 'Banana']\n",
      "['Apple', 'Mangoes', 'Banana', 23, 1, True]\n"
     ]
    }
   ],
   "source": [
    "homogeneous=[\"Apple\",\"Mangoes\",\"Banana\"] # homogeneous\n",
    "mixed= [\"Apple\",\"Mangoes\",\"Banana\",23,1,True] #Mixed Type\n",
    "print(homogeneous)\n",
    "print(mixed)"
   ]
  },
  {
   "cell_type": "markdown",
   "metadata": {
    "id": "KgDcd1Pm5xNB"
   },
   "source": [
    "## **1.1 List Operations:**"
   ]
  },
  {
   "cell_type": "markdown",
   "metadata": {
    "id": "0qv491Ky6bme"
   },
   "source": [
    "### Accessing Examples:"
   ]
  },
  {
   "cell_type": "code",
   "execution_count": 69,
   "metadata": {
    "colab": {
     "base_uri": "https://localhost:8080/",
     "height": 36
    },
    "id": "jENw15aSi3Kj",
    "outputId": "9af61345-4c60-4b47-abd4-0fb039a77def"
   },
   "outputs": [
    {
     "data": {
      "application/vnd.google.colaboratory.intrinsic+json": {
       "type": "string"
      },
      "text/plain": [
       "'Banana'"
      ]
     },
     "execution_count": 69,
     "metadata": {},
     "output_type": "execute_result"
    }
   ],
   "source": [
    "homogeneous[2]"
   ]
  },
  {
   "cell_type": "markdown",
   "metadata": {
    "id": "XpZ0FROn6hvr"
   },
   "source": [
    "OR"
   ]
  },
  {
   "cell_type": "code",
   "execution_count": 70,
   "metadata": {
    "colab": {
     "base_uri": "https://localhost:8080/",
     "height": 0
    },
    "id": "3Vfm_Zpei3Kk",
    "outputId": "d3f45fa2-cd2a-42bf-923b-1a2ae2b11c0e"
   },
   "outputs": [
    {
     "name": "stdout",
     "output_type": "stream",
     "text": [
      "Banana\n"
     ]
    }
   ],
   "source": [
    "print(homogeneous[2])"
   ]
  },
  {
   "cell_type": "code",
   "execution_count": 71,
   "metadata": {
    "colab": {
     "base_uri": "https://localhost:8080/",
     "height": 0
    },
    "id": "795iWCRPi3Kl",
    "outputId": "b6085867-fe05-4a25-f12a-5d375092f84a"
   },
   "outputs": [
    {
     "name": "stdout",
     "output_type": "stream",
     "text": [
      "Apple\n",
      "Mangoes\n",
      "Banana\n",
      "23\n",
      "1\n",
      "True\n"
     ]
    }
   ],
   "source": [
    "for i in range(len(mixed)):\n",
    "  print(mixed[i])"
   ]
  },
  {
   "cell_type": "code",
   "execution_count": 72,
   "metadata": {
    "colab": {
     "base_uri": "https://localhost:8080/",
     "height": 0
    },
    "id": "oseeIro3i3Kn",
    "outputId": "a2386711-a503-4539-fe44-45261e141797"
   },
   "outputs": [
    {
     "name": "stdout",
     "output_type": "stream",
     "text": [
      "Index 0: Apple\n",
      "Index 1: Mangoes\n",
      "Index 2: Banana\n",
      "Index 3: 23\n",
      "Index 4: 1\n",
      "Index 5: True\n"
     ]
    }
   ],
   "source": [
    "for index,elements in enumerate(mixed):  #or enumerate(list,start=1 or 2 or 3)\n",
    "  print(f\"Index {index}: {elements}\")"
   ]
  },
  {
   "cell_type": "markdown",
   "metadata": {
    "id": "Tt5oseII7IX8"
   },
   "source": [
    "#### Range VS Enumerate:\n",
    "- range() is a built-in function used to iterate through a sequence of numbers. Some common use cases would be to iterate from the numbers 0 to 10:\n",
    "\n",
    "- enumerate() is a built-in function to iterate through a sequence and keep track of both the index and the number. You can pass in an optional start parameter to indicate which number the index should start at:"
   ]
  },
  {
   "cell_type": "markdown",
   "metadata": {
    "id": "p8lCh3Tm7biF"
   },
   "source": [
    "### Modifying Example(s)"
   ]
  },
  {
   "cell_type": "code",
   "execution_count": 73,
   "metadata": {
    "colab": {
     "base_uri": "https://localhost:8080/",
     "height": 0
    },
    "id": "ErKDMllUi3Ko",
    "outputId": "e4ed76e7-47ec-4eb4-a504-13b9404b7111"
   },
   "outputs": [
    {
     "name": "stdout",
     "output_type": "stream",
     "text": [
      "Apple\n",
      "Mangoes\n",
      "Kiwi\n"
     ]
    }
   ],
   "source": [
    "for i in range(len(homogeneous)):\n",
    "  if homogeneous[i]==\"Banana\":\n",
    "    homogeneous[i] = \"Kiwi\"\n",
    "  print(homogeneous[i])"
   ]
  },
  {
   "cell_type": "markdown",
   "metadata": {
    "id": "Q5SWN2TS7lq9"
   },
   "source": [
    "### Adding Example"
   ]
  },
  {
   "cell_type": "markdown",
   "metadata": {
    "id": "nQJLg4Pz9E-4"
   },
   "source": [
    "**Using append:** Adds an element to the end of the list"
   ]
  },
  {
   "cell_type": "code",
   "execution_count": 74,
   "metadata": {
    "colab": {
     "base_uri": "https://localhost:8080/",
     "height": 0
    },
    "id": "IHq9_nymi3Kq",
    "outputId": "88becd41-81fe-4b47-afed-5dd20fdbb280"
   },
   "outputs": [
    {
     "name": "stdout",
     "output_type": "stream",
     "text": [
      "['Apple', 'Mangoes', 'Kiwi', 'Banana']\n"
     ]
    }
   ],
   "source": [
    "homogeneous.append(\"Banana\")\n",
    "print(homogeneous)"
   ]
  },
  {
   "cell_type": "markdown",
   "metadata": {
    "id": "xvrjXark9ICW"
   },
   "source": [
    "**Using Insert:** Adds an element at the specified index"
   ]
  },
  {
   "cell_type": "code",
   "execution_count": 75,
   "metadata": {
    "colab": {
     "base_uri": "https://localhost:8080/",
     "height": 0
    },
    "id": "01GReqUj7rAh",
    "outputId": "da1a5d41-8d6b-49e7-d930-efbf682229c8"
   },
   "outputs": [
    {
     "name": "stdout",
     "output_type": "stream",
     "text": [
      "['Apple', 'Grapes', 'Mangoes', 'Kiwi', 'Banana']\n"
     ]
    }
   ],
   "source": [
    "homogeneous.insert(1,\"Grapes\")\n",
    "print(homogeneous)"
   ]
  },
  {
   "cell_type": "markdown",
   "metadata": {
    "id": "sqK3Nh1-i3Ks"
   },
   "source": [
    "## Concatenation Examples:"
   ]
  },
  {
   "cell_type": "code",
   "execution_count": 76,
   "metadata": {
    "colab": {
     "base_uri": "https://localhost:8080/",
     "height": 0
    },
    "id": "p212Wd-j74jY",
    "outputId": "b5f8a30a-b543-4b12-c24d-796d16d9d650"
   },
   "outputs": [
    {
     "name": "stdout",
     "output_type": "stream",
     "text": [
      "['Apple', 'Grapes', 'Mangoes', 'Kiwi', 'Banana', 'Apple', 'Mangoes', 'Banana', 23, 1, True]\n"
     ]
    }
   ],
   "source": [
    "homogeneous.extend(mixed)\n",
    "print(homogeneous)"
   ]
  },
  {
   "cell_type": "markdown",
   "metadata": {
    "id": "VnITcjgVi3Kt"
   },
   "source": [
    "## Remove Elements Examples:"
   ]
  },
  {
   "cell_type": "code",
   "execution_count": 77,
   "metadata": {
    "colab": {
     "base_uri": "https://localhost:8080/",
     "height": 0
    },
    "id": "I0pvmiqE8xMv",
    "outputId": "50df8e33-f8eb-4145-97c4-97e0b84e65e3"
   },
   "outputs": [
    {
     "name": "stdout",
     "output_type": "stream",
     "text": [
      "['Apple', 'Grapes', 'Mangoes', 'Kiwi', 'Banana', 'Apple', 'Mangoes', 'Banana', 23, 1]\n"
     ]
    }
   ],
   "source": [
    "del(homogeneous[10]) #removes an element at the specified index\n",
    "print(homogeneous)"
   ]
  },
  {
   "cell_type": "code",
   "execution_count": 78,
   "metadata": {
    "colab": {
     "base_uri": "https://localhost:8080/",
     "height": 0
    },
    "id": "2DhYMoWY8hI1",
    "outputId": "7690b277-0a90-457b-9ad0-7e7559245fc8"
   },
   "outputs": [
    {
     "name": "stdout",
     "output_type": "stream",
     "text": [
      "['Apple', 'Grapes', 'Kiwi', 'Banana', 'Apple', 'Mangoes', 'Banana', 23, 1]\n"
     ]
    }
   ],
   "source": [
    "homogeneous.remove(\"Mangoes\") #removes the mentioned element from the list\n",
    "print(homogeneous)"
   ]
  },
  {
   "cell_type": "markdown",
   "metadata": {
    "id": "0f8W4ZtDA6-0"
   },
   "source": [
    "# **2. List manipulation**\n",
    "- Lambda, zip, map, and filter are powerful tools for manipulating lists in Python.\n",
    "- They allow you to perform various operations on lists and can make your code more concise and readable"
   ]
  },
  {
   "cell_type": "markdown",
   "metadata": {
    "id": "vyc3IEVjBDNu"
   },
   "source": [
    "### **2.1. Lambda**\n",
    "- Anonymous functions in Python roughly means functions with no name\n",
    "- We can write an anonymous function in Python using the lambda keyword.\n",
    "- A lambda function is defined without a name.\n",
    "- It is defined using the `lambda` keyword.\n",
    "- A lambda function can have one or more arguments.\n",
    "- But it will have only one expression. This is why a lambda function is often called a lambda expression.\n",
    "\n",
    "\n",
    "#### **Syntax**\n",
    "```\n",
    "lambda argument(s): expression\n",
    "```"
   ]
  },
  {
   "cell_type": "code",
   "execution_count": 79,
   "metadata": {
    "colab": {
     "base_uri": "https://localhost:8080/",
     "height": 0
    },
    "id": "hfLyW1SdA9wY",
    "outputId": "32907461-9d33-4608-ff75-6adc1757bd5e"
   },
   "outputs": [
    {
     "name": "stdout",
     "output_type": "stream",
     "text": [
      "100\n"
     ]
    }
   ],
   "source": [
    "def identity_func(val): #Normal Function\n",
    "    return val\n",
    "\n",
    "print(identity_func(100))"
   ]
  },
  {
   "cell_type": "code",
   "execution_count": 80,
   "metadata": {
    "colab": {
     "base_uri": "https://localhost:8080/",
     "height": 0
    },
    "id": "ocS1X0X_BOkl",
    "outputId": "8b0375d6-f3f3-4ff5-cc2e-0bbcaf6a6536"
   },
   "outputs": [
    {
     "name": "stdout",
     "output_type": "stream",
     "text": [
      "100\n"
     ]
    }
   ],
   "source": [
    "x = lambda val:val #Lambda Function\n",
    "print(x(100))"
   ]
  },
  {
   "cell_type": "markdown",
   "metadata": {
    "id": "SLiigq7dBdy1"
   },
   "source": [
    "### **2.1.1 List manipulation with Lambda**"
   ]
  },
  {
   "cell_type": "code",
   "execution_count": 8,
   "metadata": {
    "colab": {
     "base_uri": "https://localhost:8080/",
     "height": 0
    },
    "id": "4xUdqD8KBcrG",
    "outputId": "577b099f-e514-40cc-caf2-285abb4fba52"
   },
   "outputs": [
    {
     "name": "stdout",
     "output_type": "stream",
     "text": [
      "['hello', 'congratulations', 'why', 'hell0']\n"
     ]
    }
   ],
   "source": [
    "mylist=[\"Hello\",\"Congratulations\",\"WHY\",\"Hell0\"]\n",
    "\n",
    "lowercase = lambda string: string.lower()\n",
    "print((lowercase,mylist))\n",
    "#or\n",
    "print(list(map(lowercase,mylist)))"
   ]
  },
  {
   "cell_type": "code",
   "execution_count": 82,
   "metadata": {
    "colab": {
     "base_uri": "https://localhost:8080/",
     "height": 0
    },
    "id": "8mleN9bUBm0B",
    "outputId": "f909f0f0-45b3-46e9-fa24-dfaff4fdfe70"
   },
   "outputs": [
    {
     "name": "stdout",
     "output_type": "stream",
     "text": [
      "[5, 15, 3, 5]\n"
     ]
    }
   ],
   "source": [
    "count = lambda x :len(x.upper())\n",
    "print(list(map(count,mylist)))"
   ]
  },
  {
   "cell_type": "markdown",
   "metadata": {
    "id": "Wo-yeQa8DEhI"
   },
   "source": [
    "### **2.2 Zip**\n",
    "- The zip() function takes iterables (can be zero or more), aggregates them in a tuple, and returns it.\n",
    "- The iterables you pass to zip can be lists, tuples, strings, or any other iterable objects\n",
    "\n",
    "### **Syntax**\n",
    "`zip(iterable1, iterable2, ...)`"
   ]
  },
  {
   "cell_type": "code",
   "execution_count": 83,
   "metadata": {
    "colab": {
     "base_uri": "https://localhost:8080/",
     "height": 0
    },
    "id": "dLPMWUVoCkZR",
    "outputId": "e782fc96-c3ae-4fd3-dcc2-fd666d4f9394"
   },
   "outputs": [
    {
     "name": "stdout",
     "output_type": "stream",
     "text": [
      "((0, 'A'), (1, 'B'), (2, 'C'), (3, 'D'))\n"
     ]
    }
   ],
   "source": [
    "zipped = zip(range(4),'ABCD')\n",
    "print(tuple(zipped))"
   ]
  },
  {
   "cell_type": "markdown",
   "metadata": {
    "id": "e9AIjGWqDbRg"
   },
   "source": [
    "### **2.2.1 List manipulation with Zip**"
   ]
  },
  {
   "cell_type": "code",
   "execution_count": 84,
   "metadata": {
    "colab": {
     "base_uri": "https://localhost:8080/",
     "height": 0
    },
    "id": "RVRyftD5DPpL",
    "outputId": "ccf821a1-79d8-4a9b-e732-904a15b7b14e"
   },
   "outputs": [
    {
     "name": "stdout",
     "output_type": "stream",
     "text": [
      "[(3, 'A'), (4, 'B'), (5, 'C'), (6, 'D')]\n"
     ]
    }
   ],
   "source": [
    "list1=[3,4,5,6]\n",
    "list2=[\"A\",\"B\",\"C\",\"D\"]\n",
    "zipped = zip(list1,list2)\n",
    "print(list(zipped))"
   ]
  },
  {
   "cell_type": "code",
   "execution_count": 85,
   "metadata": {
    "colab": {
     "base_uri": "https://localhost:8080/",
     "height": 0
    },
    "id": "9_beIEmjDjfB",
    "outputId": "e388426d-3fac-45b4-dc5b-67b207b889c0"
   },
   "outputs": [
    {
     "name": "stdout",
     "output_type": "stream",
     "text": [
      "[('x', 3), ('y', 4), ('z', 5)]\n",
      "c = ('x', 'y', 'z')\n",
      "v = (3, 4, 5)\n"
     ]
    }
   ],
   "source": [
    "coordinate = ['x', 'y', 'z']\n",
    "value = [3, 4, 5]\n",
    "\n",
    "result = zip(coordinate, value)\n",
    "result_list = list(result)\n",
    "print(result_list)\n",
    "\n",
    "c, v =  zip(*result_list)\n",
    "\n",
    "print('c =', c)\n",
    "print('v =', v)"
   ]
  },
  {
   "cell_type": "markdown",
   "metadata": {
    "id": "TSc9RVSGDwgH"
   },
   "source": [
    "### **2.3. Map**\n",
    "- The map() function applies a given function to each element of an iterable (list, tuple etc.) and returns an iterator containing the results.\n",
    "- It can be used to transform data efficiently.\n",
    "\n",
    "\n",
    "### **Syntax**\n",
    "\n",
    "```\n",
    "map(function, iterable, ...)\n",
    "```\n"
   ]
  },
  {
   "cell_type": "code",
   "execution_count": 86,
   "metadata": {
    "colab": {
     "base_uri": "https://localhost:8080/",
     "height": 0
    },
    "id": "iPYVuvAEDm6E",
    "outputId": "36041230-8751-40d0-83ac-5fed6fcf748a"
   },
   "outputs": [
    {
     "name": "stdout",
     "output_type": "stream",
     "text": [
      "[1, 4, 9, 16]\n"
     ]
    }
   ],
   "source": [
    "def squared(number):\n",
    "  return number * number\n",
    "\n",
    "mapped = map(squared,range(1,5))\n",
    "print(list(mapped))"
   ]
  },
  {
   "cell_type": "markdown",
   "metadata": {
    "id": "IzImR5Q7ERls"
   },
   "source": [
    "### **2.3.1 List manipulation with map**"
   ]
  },
  {
   "cell_type": "code",
   "execution_count": 87,
   "metadata": {
    "colab": {
     "base_uri": "https://localhost:8080/",
     "height": 0
    },
    "id": "5t4tyoEsEHtA",
    "outputId": "76c1884c-8a55-404f-d8c2-09f394bbf2fd"
   },
   "outputs": [
    {
     "name": "stdout",
     "output_type": "stream",
     "text": [
      "[2, 4, 6, 8, 10]\n"
     ]
    }
   ],
   "source": [
    "numbers = [1, 2, 3, 4, 5]\n",
    "doubled_numbers = list(map(lambda x: x * 2, numbers))\n",
    "print(doubled_numbers)"
   ]
  },
  {
   "cell_type": "markdown",
   "metadata": {
    "id": "OUMbIf31EkGs"
   },
   "source": [
    "### **2.4. Filter**\n",
    "- The filter() function selects elements from an iterable (list, tuple etc.) based on the output of a function.\n",
    "- The function is applied to each element of the iterable and if it returns True, the element is selected by the filter() function.\n",
    "- In short it allows you to process an iterable and extract those items that satisfy a given condition\n",
    "\n",
    "### **Syntax**\n",
    "\n",
    "\n",
    "```\n",
    "# filter(function, iterable)\n",
    "```\n"
   ]
  },
  {
   "cell_type": "code",
   "execution_count": 88,
   "metadata": {
    "colab": {
     "base_uri": "https://localhost:8080/",
     "height": 0
    },
    "id": "jcQhOZW-EZcZ",
    "outputId": "45b34c8f-2116-4d38-b88b-c6a20b5d030c"
   },
   "outputs": [
    {
     "name": "stdout",
     "output_type": "stream",
     "text": [
      "[2, 3, 6, 8, 9]\n"
     ]
    }
   ],
   "source": [
    "number_list=[2,3,-4,-5,6,-7,8,-9,9,-2]\n",
    "def positive_numbers(number):\n",
    "  if number >0:\n",
    "    return number\n",
    "  return False\n",
    "\n",
    "filtered = filter(positive_numbers,number_list)\n",
    "\n",
    "print(list(filtered))"
   ]
  },
  {
   "cell_type": "markdown",
   "metadata": {
    "id": "Xcn_oPjDFH58"
   },
   "source": [
    "### **2.4.1 List manipulation with Filter**"
   ]
  },
  {
   "cell_type": "code",
   "execution_count": 89,
   "metadata": {
    "colab": {
     "base_uri": "https://localhost:8080/",
     "height": 0
    },
    "id": "FwNSjVGqE46s",
    "outputId": "60a74878-ddd7-4e11-f9ec-7ae0abaec71a"
   },
   "outputs": [
    {
     "name": "stdout",
     "output_type": "stream",
     "text": [
      "[2, 4, 6]\n"
     ]
    }
   ],
   "source": [
    "numbers = [1, 2, 3, 4, 5, 6]\n",
    "even_numbers = list(filter(lambda x: x % 2 == 0, numbers))\n",
    "print(even_numbers)"
   ]
  },
  {
   "cell_type": "markdown",
   "metadata": {
    "id": "GeW29hiZKniX"
   },
   "source": [
    "## **Task:**\n",
    "\n",
    "\n",
    "1.  **Create a chatbot using the following hints:**\n",
    "\n",
    "\n",
    "\n"
   ]
  },
  {
   "cell_type": "code",
   "execution_count": 90,
   "metadata": {
    "id": "MPVTrCLIFKim"
   },
   "outputs": [],
   "source": [
    "#def chatbot():\n",
    "  #user_input\n",
    "  # Base case: Exit the chatbot if the user types \"exit\", \"bye\" or \"quit\" <--- List\n",
    "  #.....\n",
    "\n",
    "  #Recursive case: Continue the conversation\n",
    "  #....\n",
    "  # Recursively call the chatbot function to continue the conversation\n",
    "\n",
    "\n",
    "#def response(user_input):\n",
    "\n",
    "  #Generate responses based on the input\n",
    "\n",
    "#Start the chatbot\n",
    "#print(\"Hello good sir/ma'am how may I assis you?\")\n",
    "#chatbot ()"
   ]
  },
  {
   "cell_type": "markdown",
   "metadata": {
    "id": "Gt17JCKBMIdo"
   },
   "source": [
    "2.   **Create a text based adventure game with a unique story line and\n",
    "different unique paths where user roams a forest and can add,\n",
    "remove or access items from his inventory.**\n",
    "**Note: Pass the list as an argument**\n",
    "\n"
   ]
  },
  {
   "cell_type": "markdown",
   "metadata": {
    "id": "8iY_e0WSMzmh"
   },
   "source": [
    "3. You have a list of words e.g word_list = [\"Apple\", \"Banana\", \"Avocado\", \"Cherry\", \"Apricot\",\"Grapes\"], and you want to find the words that start with letter, 'A', and then count the total number of such words.\n",
    "\n"
   ]
  },
  {
   "cell_type": "markdown",
   "metadata": {
    "id": "JhSdnXg-NNx4"
   },
   "source": [
    "4. Write a python program where you have two lists one shows list of items and the other list\n",
    "shows their expirey date, aggregate both list using zip and then filter out the items using\n",
    "filter function that are expired keeping the unexpired items in inventory list.\n",
    "\n",
    "Hints:\n",
    "\n",
    "i. from datetime import date\n",
    "\n",
    "ii. items = [\"Milk\", \"Bread\", \"Eggs\", \"Yogurt\", \"Cheese\"]\n",
    "\n",
    "iii. expiration_dates = [date(2023, 9, 30), date(2023, 10, 15), date(2023, 9 ,25), date(2023, 9, 8), date(2023, 10, 10)]\n",
    "\n",
    "iv. current_date = date.today()"
   ]
  },
  {
   "cell_type": "code",
   "execution_count": 64,
   "metadata": {
    "id": "xI9DuLHaMGwk"
   },
   "outputs": [],
   "source": []
  }
 ],
 "metadata": {
  "colab": {
   "provenance": []
  },
  "kernelspec": {
   "display_name": "Python 3 (ipykernel)",
   "language": "python",
   "name": "python3"
  },
  "language_info": {
   "codemirror_mode": {
    "name": "ipython",
    "version": 3
   },
   "file_extension": ".py",
   "mimetype": "text/x-python",
   "name": "python",
   "nbconvert_exporter": "python",
   "pygments_lexer": "ipython3",
   "version": "3.8.20"
  }
 },
 "nbformat": 4,
 "nbformat_minor": 4
}
