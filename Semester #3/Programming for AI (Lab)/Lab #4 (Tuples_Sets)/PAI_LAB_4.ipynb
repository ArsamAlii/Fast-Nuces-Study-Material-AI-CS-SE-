{
 "cells": [
  {
   "cell_type": "markdown",
   "metadata": {
    "id": "whj7WWyfi3KX"
   },
   "source": [
    "<div style=\"text-align:center; font-size:24px; font-weight:bold;\">AL2001-Programming For AI</div>\n",
    "<br>\n",
    "<div style=\"text-align:center; font-size:24px; font-weight:bold;\">Instructor: Muhammad Saad Rashad</div>\n",
    "<br>\n",
    "<div style=\"text-align:center; font-size:18px; font-weight:bold;\">email: saad.rashad@nu.edu.pk</div>\n"
   ]
  },
  {
   "cell_type": "markdown",
   "metadata": {
    "id": "KwOoEok6i3Ke"
   },
   "source": [
    "# **1. Tuples**\n",
    "- an ordered sequence of elements, can mix element types\n",
    "- cannot change element values, immutable\n",
    "- represented with parentheses ()\n",
    "\n"
   ]
  },
  {
   "cell_type": "code",
   "execution_count": 28,
   "metadata": {
    "colab": {
     "base_uri": "https://localhost:8080/"
    },
    "id": "W-2ltRUUi3Kg",
    "outputId": "94dde710-2143-4a50-d456-bccdeaf966eb"
   },
   "outputs": [
    {
     "name": "stdout",
     "output_type": "stream",
     "text": [
      "()\n",
      "(1, 2, 3, 4, 5)\n",
      "(2, 'Artificial', 5.66)\n",
      "(45, [2, 3, 5, 3])\n",
      "(55, (2, 'Deep Fake', 67))\n"
     ]
    }
   ],
   "source": [
    "def tupleTypes():\n",
    "  emptyTuple=() # empty tuple\n",
    "  intTuple=(1,2,3,4,5) #Tuple wiht integers\n",
    "  mixedTuple=(2,\"Artificial\",5.66) # Mixed Tuple\n",
    "  listinside=(45,[2,3,5,3]) #List inside\n",
    "  nestedTuple=(55,(2,\"Deep Fake\",67)) # Nested Tuple\n",
    "\n",
    "  print(emptyTuple)\n",
    "  print(intTuple)\n",
    "  print(mixedTuple)\n",
    "  print(listinside)\n",
    "  print(nestedTuple)\n",
    "\n",
    "tupleTypes()\n"
   ]
  },
  {
   "cell_type": "markdown",
   "metadata": {
    "id": "KgDcd1Pm5xNB"
   },
   "source": [
    "## **1.1 Tuple with single Element:**\n",
    "- Tuple with a single element is a bit tricky\n",
    "- Having one element in parenthesis is not enough\n",
    "- A trailing comma needs to be added."
   ]
  },
  {
   "cell_type": "code",
   "execution_count": 2,
   "metadata": {
    "colab": {
     "base_uri": "https://localhost:8080/"
    },
    "id": "jENw15aSi3Kj",
    "outputId": "1cddc2fa-809c-4a46-f96a-62b18828611c"
   },
   "outputs": [
    {
     "name": "stdout",
     "output_type": "stream",
     "text": [
      "('hello',)\n"
     ]
    }
   ],
   "source": [
    "def singleElement():\n",
    "  s_tuple=(\"hello\",)\n",
    "  print(s_tuple)\n",
    "\n",
    "singleElement()"
   ]
  },
  {
   "cell_type": "markdown",
   "metadata": {
    "id": "XpZ0FROn6hvr"
   },
   "source": [
    "## **1.2 Indexing and Slicing:**\n",
    "#### **a. Indexing:**\n",
    "- Like lists we can use the index operator [ ] to access an item in a tuple, where the index starts from 0."
   ]
  },
  {
   "cell_type": "code",
   "execution_count": 30,
   "metadata": {
    "colab": {
     "base_uri": "https://localhost:8080/"
    },
    "id": "3Vfm_Zpei3Kk",
    "outputId": "a5892b56-7a66-4495-ae5d-285ca20aebc5"
   },
   "outputs": [
    {
     "name": "stdout",
     "output_type": "stream",
     "text": [
      "a\n",
      "h\n",
      "e\n"
     ]
    }
   ],
   "source": [
    "def indexing():\n",
    "  indexTuple=('a','b','c','d','e','f','g','h','i','j')\n",
    "  print(indexTuple[0])\n",
    "  print(indexTuple[7])\n",
    "  print(indexTuple[4])\n",
    "\n",
    "indexing()"
   ]
  },
  {
   "cell_type": "markdown",
   "metadata": {
    "id": "NiHebjpd-ZOy"
   },
   "source": [
    "#### **b. Slicing:**\n",
    "- We can access a range of items in a tuple by using the slicing operator colon :"
   ]
  },
  {
   "cell_type": "code",
   "execution_count": 31,
   "metadata": {
    "colab": {
     "base_uri": "https://localhost:8080/"
    },
    "id": "795iWCRPi3Kl",
    "outputId": "9055ad5a-801d-40bb-92a5-af15d9e71305"
   },
   "outputs": [
    {
     "name": "stdout",
     "output_type": "stream",
     "text": [
      "('b', 'c', 'd')\n",
      "('h', 'i', 'j')\n",
      "('a', 'b', 'c', 'd', 'e', 'f', 'g', 'h', 'i', 'j')\n"
     ]
    }
   ],
   "source": [
    "def slicing():\n",
    "  sliceTuple=('a','b','c','d','e','f','g','h','i','j')\n",
    "  # elements 2nd to 4th index\n",
    "  print(sliceTuple[1:4])\n",
    "\n",
    "  # elements 8th to end\n",
    "  print(sliceTuple[7:])\n",
    "\n",
    "  # elements beginning to end\n",
    "  print(sliceTuple[:])\n",
    "slicing()"
   ]
  },
  {
   "cell_type": "markdown",
   "metadata": {
    "id": "WgmTlghn-om_"
   },
   "source": [
    "### **c. Negative Indexing:**\n",
    "- Python allows negative indexing for its sequences. The index of -1 refers to the last item, -2 to the second last item and so on.\n",
    "- You can use negative indexing in order to get elements of both list and tuple"
   ]
  },
  {
   "cell_type": "code",
   "execution_count": 1,
   "metadata": {
    "colab": {
     "base_uri": "https://localhost:8080/"
    },
    "id": "oseeIro3i3Kn",
    "outputId": "44e1d18e-7bd3-40d0-ef85-b30c7f3d49b8"
   },
   "outputs": [
    {
     "name": "stdout",
     "output_type": "stream",
     "text": [
      "j\n",
      "i\n",
      "h\n"
     ]
    }
   ],
   "source": [
    "def negative():\n",
    "  negTuple=('a','b','c','d','e','f','g','h','i','j')\n",
    "  # Last element gets printed\n",
    "  print(negTuple[-1])\n",
    "\n",
    "  # Second Last element gets printed\n",
    "  print(negTuple[-2])\n",
    "\n",
    "  # Third Last element gets printed\n",
    "  print(negTuple[-3])\n",
    "negative()"
   ]
  },
  {
   "cell_type": "markdown",
   "metadata": {
    "id": "Tt5oseII7IX8"
   },
   "source": [
    "## **1.3 Operations on Tuple:**\n",
    "- Tuples doesn't support mutation or modification like a list does.\n",
    "- This is due reasons such as consistency,safety,performance etc."
   ]
  },
  {
   "cell_type": "markdown",
   "metadata": {
    "id": "dpTzpvHr__Ai"
   },
   "source": [
    "### **Concatenation**\n",
    "- Combine two or more tuples using the + operator to create a new tuple."
   ]
  },
  {
   "cell_type": "code",
   "execution_count": 33,
   "metadata": {
    "colab": {
     "base_uri": "https://localhost:8080/"
    },
    "id": "ErKDMllUi3Ko",
    "outputId": "cbc210c1-bec1-4172-8e79-a713e8544129"
   },
   "outputs": [
    {
     "name": "stdout",
     "output_type": "stream",
     "text": [
      "('20', 30, 'hello', 'help', 'install', True)\n"
     ]
    }
   ],
   "source": [
    "tuple1=('20',30,\"hello\")\n",
    "tuple2=(\"help\",\"install\",True)\n",
    "concattuple= tuple1+tuple2\n",
    "def concat(val):\n",
    "  print(val)\n",
    "\n",
    "\n",
    "concat(concattuple)\n"
   ]
  },
  {
   "cell_type": "markdown",
   "metadata": {
    "id": "Q5SWN2TS7lq9"
   },
   "source": [
    "### **Membership Test**\n",
    "- Checks if elements exist in a tuple using “in” keyword and gives True if the value exists"
   ]
  },
  {
   "cell_type": "code",
   "execution_count": 34,
   "metadata": {
    "colab": {
     "base_uri": "https://localhost:8080/"
    },
    "id": "IHq9_nymi3Kq",
    "outputId": "b2712afc-f90d-45d7-c3c6-6ac73f40d0a1"
   },
   "outputs": [
    {
     "name": "stdout",
     "output_type": "stream",
     "text": [
      "True\n"
     ]
    }
   ],
   "source": [
    "def checktuple():\n",
    "  tuplecheck=(\"myname\",23,\"argentina\")\n",
    "  existance=\"myname\" in tuplecheck\n",
    "  print(existance)\n",
    "checktuple()"
   ]
  },
  {
   "cell_type": "markdown",
   "metadata": {
    "id": "xvrjXark9ICW"
   },
   "source": [
    "### **Count**\n",
    "- Count the number of occurrences of a specific element within a tuple using the count() method"
   ]
  },
  {
   "cell_type": "code",
   "execution_count": 35,
   "metadata": {
    "colab": {
     "base_uri": "https://localhost:8080/"
    },
    "id": "01GReqUj7rAh",
    "outputId": "9999f982-84d8-4daf-a0fc-18d5ec0e9045"
   },
   "outputs": [
    {
     "name": "stdout",
     "output_type": "stream",
     "text": [
      "3\n"
     ]
    }
   ],
   "source": [
    "def occurrences():\n",
    "  tupleocc=('A','B','a','c','a','b','a',1,2,3,1,5)\n",
    "  count=tupleocc.count('a')\n",
    "  print(count)\n",
    "\n",
    "occurrences()"
   ]
  },
  {
   "cell_type": "markdown",
   "metadata": {
    "id": "sqK3Nh1-i3Ks"
   },
   "source": [
    "### **Swap values using Tuple**"
   ]
  },
  {
   "cell_type": "code",
   "execution_count": 36,
   "metadata": {
    "colab": {
     "base_uri": "https://localhost:8080/"
    },
    "id": "p212Wd-j74jY",
    "outputId": "6081c474-e7d1-41e9-d36e-f2752243a934"
   },
   "outputs": [
    {
     "name": "stdout",
     "output_type": "stream",
     "text": [
      "55 20\n"
     ]
    }
   ],
   "source": [
    "value1=20\n",
    "value2=55\n",
    "(value1,value2) = (value2,value1)\n",
    "print(value1,value2)"
   ]
  },
  {
   "cell_type": "markdown",
   "metadata": {
    "id": "VnITcjgVi3Kt"
   },
   "source": [
    "### **Return values**\n",
    "- used to return more than one value from a function"
   ]
  },
  {
   "cell_type": "code",
   "execution_count": 37,
   "metadata": {
    "colab": {
     "base_uri": "https://localhost:8080/"
    },
    "id": "I0pvmiqE8xMv",
    "outputId": "b9ce46bf-5d15-4bb4-a15d-7b49aabcd948"
   },
   "outputs": [
    {
     "name": "stdout",
     "output_type": "stream",
     "text": [
      "1\n",
      "2\n"
     ]
    }
   ],
   "source": [
    "def quotient_and_remainder(x, y):\n",
    "    q = x // y  #Calculates Quotient\n",
    "    r = x % y   #Calculates Remainder\n",
    "    return (q, r)\n",
    "\n",
    "(quot, rem) = quotient_and_remainder(5,3)\n",
    "print(quot)\n",
    "print(rem)"
   ]
  },
  {
   "cell_type": "markdown",
   "metadata": {
    "id": "0f8W4ZtDA6-0"
   },
   "source": [
    "# **2. Sets**\n",
    "- A set is an unordered collection of elements.\n",
    "- Elements are separated by commas and are place within \"{}\".\n",
    "- Sets are like lists but they cannot contain duplicate value. Sets are also mutable.\n",
    "- They do not support indexing, slicing, or other sequence-like behavior sue to unordered nature.\n",
    "\n",
    "\n",
    "#### **Syntax**\n",
    "```\n",
    "variable_name={'element1','element2','element3'...}\n",
    "```\n"
   ]
  },
  {
   "cell_type": "code",
   "execution_count": 38,
   "metadata": {
    "colab": {
     "base_uri": "https://localhost:8080/"
    },
    "id": "hfLyW1SdA9wY",
    "outputId": "5464833f-fc27-42ee-f220-e1c1aea2a1a1"
   },
   "outputs": [
    {
     "name": "stdout",
     "output_type": "stream",
     "text": [
      "{1, 2, 3, 4, 5, 6}\n"
     ]
    }
   ],
   "source": [
    "set_variable={1,2,3,4,5,6}\n",
    "print(set_variable)"
   ]
  },
  {
   "cell_type": "markdown",
   "metadata": {
    "id": "ohgr6uawE579"
   },
   "source": [
    "### **2.a Duplicat Set**\n",
    "- Let's see how sets deal with a duplicate value"
   ]
  },
  {
   "cell_type": "code",
   "execution_count": 39,
   "metadata": {
    "colab": {
     "base_uri": "https://localhost:8080/"
    },
    "id": "ocS1X0X_BOkl",
    "outputId": "b25d4497-0845-4308-af1a-ebc20fe46178"
   },
   "outputs": [
    {
     "name": "stdout",
     "output_type": "stream",
     "text": [
      "{1, 2, 3, 4, 5, 6, 7}\n"
     ]
    }
   ],
   "source": [
    "dup_set = {1,2,3,3,4,5,6,7,7}\n",
    "print(dup_set)"
   ]
  },
  {
   "cell_type": "markdown",
   "metadata": {
    "id": "SLiigq7dBdy1"
   },
   "source": [
    "### **2.b  Empty Sets**\n",
    "- Adding a curly brackets will define the variable as dictionary\n",
    "- To make a set without any elements, we use the set() function without any argument."
   ]
  },
  {
   "cell_type": "code",
   "execution_count": 40,
   "metadata": {
    "colab": {
     "base_uri": "https://localhost:8080/"
    },
    "id": "4xUdqD8KBcrG",
    "outputId": "60eb602f-d7a1-48ca-f791-f311af4407f9"
   },
   "outputs": [
    {
     "name": "stdout",
     "output_type": "stream",
     "text": [
      "<class 'set'>\n",
      "<class 'tuple'>\n",
      "<class 'dict'>\n"
     ]
    }
   ],
   "source": [
    "empty_set=set()\n",
    "empty_tuple=()\n",
    "empty_dict = {}\n",
    "\n",
    "print(type(empty_set))\n",
    "print(type(empty_tuple))\n",
    "print(type(empty_dict))"
   ]
  },
  {
   "cell_type": "markdown",
   "metadata": {
    "id": "Wo-yeQa8DEhI"
   },
   "source": [
    "# **2.1. Operations on Sets**\n",
    "### **2.1.1 add()**\n",
    "- Sets are mutable. However, since they are unordered, indexing has no meaning."
   ]
  },
  {
   "cell_type": "code",
   "execution_count": 43,
   "metadata": {
    "colab": {
     "base_uri": "https://localhost:8080/"
    },
    "id": "dLPMWUVoCkZR",
    "outputId": "dfa2ae36-fbc9-4189-8f05-ff7e59bed578"
   },
   "outputs": [
    {
     "name": "stdout",
     "output_type": "stream",
     "text": [
      "{3, 4, 5, 6, 8}\n"
     ]
    }
   ],
   "source": [
    "my_set ={3,4,5,6}\n",
    "my_set.add(8)\n",
    "print(my_set)"
   ]
  },
  {
   "cell_type": "markdown",
   "metadata": {
    "id": "e9AIjGWqDbRg"
   },
   "source": [
    "### **2.1.2 Remove**\n",
    "- We use the discard() method to remove the specified element from a set"
   ]
  },
  {
   "cell_type": "code",
   "execution_count": 44,
   "metadata": {
    "colab": {
     "base_uri": "https://localhost:8080/"
    },
    "id": "RVRyftD5DPpL",
    "outputId": "90885e9b-b0c0-45f2-b955-550c3ea5d768"
   },
   "outputs": [
    {
     "name": "stdout",
     "output_type": "stream",
     "text": [
      "{3, 4, 5, 6}\n"
     ]
    }
   ],
   "source": [
    "my_set ={3,4,5,6,8}\n",
    "my_set.discard(8)\n",
    "print(my_set)"
   ]
  },
  {
   "cell_type": "markdown",
   "metadata": {
    "id": "TJPnG3I6_h3s"
   },
   "source": [
    "### **2.1.3 Update**\n",
    "- The update() method is used to update the set with items other collection types (lists, tuples, sets, etc)"
   ]
  },
  {
   "cell_type": "code",
   "execution_count": 45,
   "metadata": {
    "colab": {
     "base_uri": "https://localhost:8080/"
    },
    "id": "R-OdX6Ba-7Ri",
    "outputId": "e58d4594-836e-4afc-8e1b-451327106c76"
   },
   "outputs": [
    {
     "name": "stdout",
     "output_type": "stream",
     "text": [
      "{'Sony', 'Samsung', 'Mobile Phone', 'TV'}\n"
     ]
    }
   ],
   "source": [
    "E_products={'TV','Mobile Phone'}\n",
    "E_brands = ['Sony','Samsung','Sony']\n",
    "E_products.update(E_brands)\n",
    "print(E_products)\n"
   ]
  },
  {
   "cell_type": "markdown",
   "metadata": {
    "id": "WA31HkLpC4At"
   },
   "source": [
    "### **2.1.4 Union**\n",
    "- The union of two sets A and B include all the elements of set A and B.\n",
    "- We use the | operator or the union() method to perform the set union operation"
   ]
  },
  {
   "cell_type": "code",
   "execution_count": 46,
   "metadata": {
    "colab": {
     "base_uri": "https://localhost:8080/"
    },
    "id": "kwodTw6JDu7U",
    "outputId": "c9bb96b7-f341-4fa5-8108-d401e0f7a313"
   },
   "outputs": [
    {
     "name": "stdout",
     "output_type": "stream",
     "text": [
      "Union operation using | operator:  {1, 2, 3, 4, 'A', 'C', 'D', 'B'}\n",
      "Union Operation using union() {1, 2, 3, 4, 'A', 'C', 'D', 'B'}\n"
     ]
    }
   ],
   "source": [
    "set_A={1,2,3,4}\n",
    "set_B = {\"A\",\"B\",\"C\",\"D\"}\n",
    "print(\"Union operation using | operator: \", set_A|set_B)\n",
    "print(\"Union Operation using union()\", set_A.union(set_B))"
   ]
  },
  {
   "cell_type": "markdown",
   "metadata": {
    "id": "vESD1oMaEZeH"
   },
   "source": [
    "### **2.1.5 Intersection**\n",
    "- The intersection of two sets A and B include the common elements between set A and B.\n",
    "- We use the & operator or the intersection() method to perform the set intersection operation"
   ]
  },
  {
   "cell_type": "code",
   "execution_count": 47,
   "metadata": {
    "colab": {
     "base_uri": "https://localhost:8080/"
    },
    "id": "Tx79-ZqhEXHz",
    "outputId": "1f065f99-cc0e-4c61-d214-1ba40d4b3c37"
   },
   "outputs": [
    {
     "name": "stdout",
     "output_type": "stream",
     "text": [
      "intersection operation using & operator:  {1, 4}\n",
      "intersection operation using intersection() {1, 4}\n"
     ]
    }
   ],
   "source": [
    "set_A={1,2,3,4}\n",
    "set_B = {1,7,4,8,9}\n",
    "print(\"intersection operation using & operator: \", set_A & set_B)\n",
    "print(\"intersection operation using intersection()\", set_A.intersection(set_B))"
   ]
  },
  {
   "cell_type": "markdown",
   "metadata": {
    "id": "BAsfxmD5Eyo8"
   },
   "source": [
    "### **2.1.6 Difference**\n",
    "- The difference between two sets A and B include elements of set A that are not present on set B.\n",
    "- We use the - operator or the difference() method to perform the difference between two sets"
   ]
  },
  {
   "cell_type": "code",
   "execution_count": 48,
   "metadata": {
    "colab": {
     "base_uri": "https://localhost:8080/"
    },
    "id": "7yehfiy1GcnF",
    "outputId": "4bdcc1e3-65e4-46fc-d93c-9055251def75"
   },
   "outputs": [
    {
     "name": "stdout",
     "output_type": "stream",
     "text": [
      "Difference operation using - operator:  {11, 2, 3}\n",
      "Difference Operation using difference() {11, 2, 3}\n"
     ]
    }
   ],
   "source": [
    "set_A={1,2,3,4,11,9}\n",
    "set_B = {1,7,4,8,9,5}\n",
    "print(\"Difference operation using - operator: \", set_A - set_B)\n",
    "print(\"Difference Operation using difference()\", set_A.difference(set_B))"
   ]
  },
  {
   "cell_type": "markdown",
   "metadata": {
    "id": "uv1-p4TeHUm_"
   },
   "source": [
    "#### Note: like lists sets are also iterable. There are other operations that can be perfromed on set\n",
    "https://www.programiz.com/python-programming/set\n"
   ]
  },
  {
   "cell_type": "markdown",
   "metadata": {
    "id": "JcU9WD6-JW3v"
   },
   "source": [
    "**Task 1:** Tuple Creation and Access\n",
    "Create a tuple with the following elements: 'apple', 'banana', 'cherry', 'date'.\n",
    "Print the entire tuple.\n",
    "Access and print the first and last elements of the tuple.\n",
    "Slice and print the tuple from the second to the third element."
   ]
  },
  {
   "cell_type": "markdown",
   "metadata": {
    "id": "9SlUSawIJaSm"
   },
   "source": [
    "**Task 2:** Tuple Unpacking\n",
    "Create a tuple containing the following elements: (10, 20, 30, 40).\n",
    "Unpack the tuple into four separate variables: a, b, c, and d.\n",
    "Print each of the variables.\n",
    "\n",
    "**Note:** Use function"
   ]
  },
  {
   "cell_type": "markdown",
   "metadata": {
    "id": "n0l6vk6zJq8Z"
   },
   "source": [
    "**Task 3: Set Membership and Modification**.Create an empty set. Add the following elements to the set: 1, 3, 5, 7. Print the set. Check if the element 3 is in the set and print the result. Remove the element 5 from the set and print the updated set."
   ]
  }
 ],
 "metadata": {
  "colab": {
   "provenance": []
  },
  "kernelspec": {
   "display_name": "Python 3 (ipykernel)",
   "language": "python",
   "name": "python3"
  },
  "language_info": {
   "codemirror_mode": {
    "name": "ipython",
    "version": 3
   },
   "file_extension": ".py",
   "mimetype": "text/x-python",
   "name": "python",
   "nbconvert_exporter": "python",
   "pygments_lexer": "ipython3",
   "version": "3.8.20"
  }
 },
 "nbformat": 4,
 "nbformat_minor": 4
}
