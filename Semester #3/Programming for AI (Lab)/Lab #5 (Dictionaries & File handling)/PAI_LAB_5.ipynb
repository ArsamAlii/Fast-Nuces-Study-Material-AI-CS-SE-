{
 "cells": [
  {
   "cell_type": "markdown",
   "metadata": {
    "id": "whj7WWyfi3KX"
   },
   "source": [
    "<div style=\"text-align:center; font-size:24px; font-weight:bold;\">AL2001-Programming For AI</div>\n",
    "<br>\n",
    "<div style=\"text-align:center; font-size:24px; font-weight:bold;\">Instructor: Muhammad Saad Rashad</div>\n",
    "<br>\n",
    "<div style=\"text-align:center; font-size:18px; font-weight:bold;\">email: saad.rashad@nu.edu.pk</div>\n"
   ]
  },
  {
   "cell_type": "markdown",
   "metadata": {
    "id": "m_B-aMXpw0vv"
   },
   "source": [
    "# **Dictionaries in Python**\n",
    "\n",
    "A dictionary is a mutable collection of many values. But unlike indexes for lists, indexes for dictionaries can use many different data types, not just integers. Indexes for dictionaries are called **keys**. A key with its associated value is called a **key-value pair**.\n",
    "\n",
    "### Syntax:\n",
    "```python\n",
    "my_dict = {\"key\":\"value\",\"key\":\"value\",\"key\":\"value\"}\n"
   ]
  },
  {
   "cell_type": "markdown",
   "metadata": {
    "id": "G8uaCrPkxygK"
   },
   "source": [
    "### **3.1 Accessing Values:**\n",
    "- There are three dictionary methods that return list-like values of the dictionary’s keys, values, or both keys and values:\n",
    "  - `keys()`: Returns a view object that displays a list of all the keys in the dictionary.\n",
    "  - `values()`: Returns a view object that displays a list of all the values in the dictionary.\n",
    "  - `items()`: Returns a view object that displays a list of tuples, each containing a key-value pair from the dictionary.\n"
   ]
  },
  {
   "cell_type": "markdown",
   "metadata": {
    "id": "1ewIg0lvx7KH"
   },
   "source": [
    "**Example 1:**"
   ]
  },
  {
   "cell_type": "code",
   "execution_count": 2,
   "metadata": {
    "colab": {
     "base_uri": "https://localhost:8080/"
    },
    "id": "lskWVo2_xy6b",
    "outputId": "20aea933-72a5-4d76-fdb1-60b9976d6478"
   },
   "outputs": [
    {
     "name": "stdout",
     "output_type": "stream",
     "text": [
      "22\n",
      "B\n",
      "3.1\n",
      "['Web development', 'Data Analysis', 'ML']\n"
     ]
    }
   ],
   "source": [
    "# Define the dictionary\n",
    "my_dictionary = {\n",
    "    \"Age\": 22,\n",
    "    \"Grade\": \"B\",\n",
    "    \"CGPA\": 3.1,\n",
    "    \"Skills\": ['Web development', 'Data Analysis', \"ML\"]\n",
    "}\n",
    "\n",
    "# Using the values() method to iterate over dictionary values\n",
    "for v in my_dictionary.values():\n",
    "    print(v)\n"
   ]
  },
  {
   "cell_type": "markdown",
   "metadata": {
    "id": "EgzFEa8Jyehb"
   },
   "source": [
    "**Example 2**"
   ]
  },
  {
   "cell_type": "code",
   "execution_count": 4,
   "metadata": {
    "colab": {
     "base_uri": "https://localhost:8080/"
    },
    "id": "R5DXasweyB3R",
    "outputId": "0bc63be5-4ab5-46aa-8982-0d7a4233ad35"
   },
   "outputs": [
    {
     "name": "stdout",
     "output_type": "stream",
     "text": [
      "Age\n",
      "Grade\n",
      "CGPA\n",
      "Skills\n"
     ]
    }
   ],
   "source": [
    "# Using the keys() method to iterate over dictionary keys\n",
    "for k in my_dictionary.keys():\n",
    "    print(k)"
   ]
  },
  {
   "cell_type": "markdown",
   "metadata": {
    "id": "X-PKgNyuyxSf"
   },
   "source": [
    "**Example 3**"
   ]
  },
  {
   "cell_type": "code",
   "execution_count": 5,
   "metadata": {
    "colab": {
     "base_uri": "https://localhost:8080/"
    },
    "id": "YcEbznvdyn-t",
    "outputId": "55bfb791-0858-49d4-9e44-55cec5737756"
   },
   "outputs": [
    {
     "name": "stdout",
     "output_type": "stream",
     "text": [
      "('Age', 22)\n",
      "('Grade', 'B')\n",
      "('CGPA', 3.1)\n",
      "('Skills', ['Web development', 'Data Analysis', 'ML'])\n"
     ]
    }
   ],
   "source": [
    "#Third method using item()\n",
    "for i in my_dictionary.items():\n",
    "  print(i)"
   ]
  },
  {
   "cell_type": "markdown",
   "metadata": {
    "id": "l61T0A0Qzn5p"
   },
   "source": [
    "### **3.2 Modifying Values:**\n",
    "#### 3.2.1 Add:\n",
    "- We can add an item to the dictionary by assigning a value to a new key (that does not exist in the dictionary).\n",
    "  "
   ]
  },
  {
   "cell_type": "markdown",
   "metadata": {
    "id": "K_rtjH1JzyiL"
   },
   "source": [
    "**Example 4**"
   ]
  },
  {
   "cell_type": "code",
   "execution_count": 6,
   "metadata": {
    "colab": {
     "base_uri": "https://localhost:8080/"
    },
    "id": "NvNVI70ly0Df",
    "outputId": "a2442b5f-a2f3-463b-e0a2-77fa534b4f6c"
   },
   "outputs": [
    {
     "name": "stdout",
     "output_type": "stream",
     "text": [
      "{'Age': 22, 'Grade': 'B', 'CGPA': 3.1, 'Skills': ['Web development', 'Data Analysis', 'ML'], 'DOB': '28-03-2001'}\n"
     ]
    }
   ],
   "source": [
    "# Define the dictionary\n",
    "my_dict = {\n",
    "    \"Age\": 22,\n",
    "    \"Grade\": \"B\",\n",
    "    \"CGPA\": 3.1,\n",
    "    \"Skills\": ['Web development', 'Data Analysis', \"ML\"]\n",
    "}\n",
    "\n",
    "# Adding a new key-value pair\n",
    "my_dict['DOB'] = \"28-03-2001\"\n",
    "\n",
    "# Printing the updated dictionary\n",
    "print(my_dict)\n"
   ]
  },
  {
   "cell_type": "markdown",
   "metadata": {
    "id": "ZhpoqjcQ0NLs"
   },
   "source": [
    "### **3.2.2 Update:**\n",
    "- We can update a dictionary in two ways:\n",
    "  - **Update a value of a key:** You can change the value associated with an existing key.\n",
    "  - **Update a dictionary with another dictionary:** You can merge another dictionary into the current dictionary, updating or adding key-value pairs.\n"
   ]
  },
  {
   "cell_type": "markdown",
   "metadata": {
    "id": "2OH_BVoc0lrB"
   },
   "source": [
    "**Example 5**"
   ]
  },
  {
   "cell_type": "code",
   "execution_count": 7,
   "metadata": {
    "colab": {
     "base_uri": "https://localhost:8080/"
    },
    "id": "v9PTCtatz_RS",
    "outputId": "7c7bb94c-dc48-431b-900b-5428b8c3fdad"
   },
   "outputs": [
    {
     "name": "stdout",
     "output_type": "stream",
     "text": [
      "Output Updating a Value:  {'Age': 22, 'Grade': 'B', 'CGPA': 3.19, 'Skills': ['Web development', 'Data Analysis', 'ML'], 'DOB': '28-03-2001'}\n",
      "Output Updating with Dictionary:  {'Age': 22, 'Grade': 'B', 'CGPA': 3.19, 'Skills': ['Web development', 'Data Analysis', 'ML'], 'DOB': '28-03-2001', 'City': 'London', 'Country': 'England'}\n"
     ]
    }
   ],
   "source": [
    "# (a) Updating a value\n",
    "my_dict[\"CGPA\"] = 3.19\n",
    "print(\"Output Updating a Value: \", my_dict)\n",
    "\n",
    "# (b) Updating a dictionary with another dictionary\n",
    "other_dict = {\"City\": \"London\", \"Country\": \"England\"}\n",
    "my_dict.update(other_dict)\n",
    "\n",
    "# Printing the updated dictionary\n",
    "print(\"Output Updating with Dictionary: \", my_dict)"
   ]
  },
  {
   "cell_type": "markdown",
   "metadata": {
    "id": "UrdoZDZ20qJS"
   },
   "source": [
    "### **3.2.3 Delete:**\n",
    "• We use del keyword to delete element"
   ]
  },
  {
   "cell_type": "markdown",
   "metadata": {
    "id": "8HAURv1E-T8R"
   },
   "source": [
    "**Example 6**"
   ]
  },
  {
   "cell_type": "code",
   "execution_count": 8,
   "metadata": {
    "colab": {
     "base_uri": "https://localhost:8080/"
    },
    "id": "Y3AOc1cm0fsL",
    "outputId": "4b428343-cdf1-4f15-c532-516b8bd6cb16"
   },
   "outputs": [
    {
     "name": "stdout",
     "output_type": "stream",
     "text": [
      "{'Age': 22, 'Grade': 'B', 'CGPA': 3.19, 'Skills': ['Web development', 'Data Analysis', 'ML'], 'DOB': '28-03-2001'}\n"
     ]
    }
   ],
   "source": [
    " # List of keys to remove\n",
    "remove_keys = [\"City\", \"Country\"]\n",
    "\n",
    "# Removing specified keys from the dictionary\n",
    "for k in remove_keys:\n",
    "    if k in my_dict:\n",
    "        del my_dict[k]\n",
    "\n",
    "# Printing the updated dictionary\n",
    "print(my_dict)"
   ]
  },
  {
   "cell_type": "markdown",
   "metadata": {
    "id": "OWUrKPPF1VdK"
   },
   "source": [
    "### Other Modification Operations on Dictionaries:\n",
    "- Nesting\n",
    "- Merging\n",
    "- Updating Values\n",
    "- Adding Items\n",
    "- Removing Items\n",
    "- Copying\n",
    "- Clearing\n",
    "- Default Values\n",
    "- Comprehensions\n",
    "- Sorting\n"
   ]
  },
  {
   "cell_type": "markdown",
   "metadata": {
    "id": "wu6YlkkN860Y"
   },
   "source": [
    "**Note: To work on colab we have to mount google drive**\n"
   ]
  },
  {
   "cell_type": "code",
   "execution_count": 10,
   "metadata": {
    "colab": {
     "base_uri": "https://localhost:8080/"
    },
    "id": "YsBJUrT59F5L",
    "outputId": "78b7e3ef-b890-489f-ab53-8ab920718f35"
   },
   "outputs": [
    {
     "name": "stdout",
     "output_type": "stream",
     "text": [
      "Mounted at /content/drive\n"
     ]
    }
   ],
   "source": [
    "from google.colab import drive\n",
    "drive.mount('/content/drive')"
   ]
  },
  {
   "cell_type": "markdown",
   "metadata": {
    "id": "lD97ZZ3q8Uei"
   },
   "source": [
    "# **File handling, Directory Operations and Data Formats**"
   ]
  },
  {
   "cell_type": "markdown",
   "metadata": {
    "id": "QKPMSYP28nc5"
   },
   "source": [
    "# **1. File Handling**\n",
    "## 1.1 Create\n",
    "- In Python, you can create a new file using the `open()` function with the mode set to `'w'` (write) or `'x'` (exclusive creation).\n",
    "  - Using `'w'` will create a file or overwrite an existing file.\n",
    "  - Using `'x'` will create a file but will raise an error if the file already exists."
   ]
  },
  {
   "cell_type": "markdown",
   "metadata": {
    "id": "SRXMemgJ-c3k"
   },
   "source": [
    "**Example 7**"
   ]
  },
  {
   "cell_type": "code",
   "execution_count": 11,
   "metadata": {
    "colab": {
     "base_uri": "https://localhost:8080/"
    },
    "id": "91w6Z47l05my",
    "outputId": "e4660abc-aacd-41f6-d18d-6427e805cd08"
   },
   "outputs": [
    {
     "data": {
      "text/plain": [
       "<function TextIOWrapper.close()>"
      ]
     },
     "execution_count": 11,
     "metadata": {},
     "output_type": "execute_result"
    }
   ],
   "source": [
    "file_path = \"/content/drive/MyDrive/Colab Notebooks/lab7.txt\"\n",
    "file=open(file_path,\"x\")\n",
    "file.close"
   ]
  },
  {
   "cell_type": "markdown",
   "metadata": {
    "id": "z18nQlX_9jy9"
   },
   "source": [
    "## 1.2 Write"
   ]
  },
  {
   "cell_type": "markdown",
   "metadata": {
    "id": "Vec6Z1LI-e2k"
   },
   "source": [
    "**Example 8**"
   ]
  },
  {
   "cell_type": "code",
   "execution_count": 12,
   "metadata": {
    "id": "q5iH7mwl8xlE"
   },
   "outputs": [],
   "source": [
    "file=open(file_path,\"w\")\n",
    "file.write(\"Hello world\")\n",
    "file.close()"
   ]
  },
  {
   "cell_type": "markdown",
   "metadata": {
    "id": "94gfaIJS9rZQ"
   },
   "source": [
    "## 1.3 Read"
   ]
  },
  {
   "cell_type": "markdown",
   "metadata": {
    "id": "2gWzfFgh-g22"
   },
   "source": [
    "**Example 9**"
   ]
  },
  {
   "cell_type": "code",
   "execution_count": 13,
   "metadata": {
    "colab": {
     "base_uri": "https://localhost:8080/"
    },
    "id": "CjO2cIyR9oeF",
    "outputId": "ec3dfc6e-c4ee-4762-db26-94a7f807b4a5"
   },
   "outputs": [
    {
     "name": "stdout",
     "output_type": "stream",
     "text": [
      "Hello world\n"
     ]
    }
   ],
   "source": [
    "file=open(file_path,\"r\")\n",
    "content=file.read()\n",
    "print(content)"
   ]
  },
  {
   "cell_type": "markdown",
   "metadata": {
    "id": "zOdvHuRp92yL"
   },
   "source": [
    "**Note:**\n",
    "• A good practice and usual practice is to use these basic file handling functions using\n",
    "\"with\".\n",
    "• With provides context management meaning it manages resources effectively and\n",
    "throw any exception automatically if it occurs\n",
    "• Also we don't specifically have to specify close() function after opening a file."
   ]
  },
  {
   "cell_type": "markdown",
   "metadata": {
    "id": "rHbusvzL9-Uz"
   },
   "source": [
    "**Example 10**"
   ]
  },
  {
   "cell_type": "code",
   "execution_count": 14,
   "metadata": {
    "id": "8sKoFkKO9us2"
   },
   "outputs": [],
   "source": [
    "with open(\"/content/drive/MyDrive/Colab Notebooks/lab7.txt\",\"w\") as file:\n",
    "  file.write(\"An example of writing data and reading it using with\")"
   ]
  },
  {
   "cell_type": "code",
   "execution_count": 15,
   "metadata": {
    "id": "7MXzB8_I-KlM"
   },
   "outputs": [],
   "source": [
    "with open(\"/content/drive/MyDrive/Colab Notebooks/lab7.txt\",\"r\") as file:\n",
    "  reader=file.read()"
   ]
  },
  {
   "cell_type": "code",
   "execution_count": 16,
   "metadata": {
    "colab": {
     "base_uri": "https://localhost:8080/"
    },
    "id": "mwiTLgCG-OC5",
    "outputId": "d4df3c80-a394-4fe7-c866-06196f918535"
   },
   "outputs": [
    {
     "name": "stdout",
     "output_type": "stream",
     "text": [
      "An example of writing data and reading it using with\n"
     ]
    }
   ],
   "source": [
    "print(reader)"
   ]
  },
  {
   "cell_type": "markdown",
   "metadata": {
    "id": "9aAuikvr-ow6"
   },
   "source": [
    "# **2. File and Directory Operations**"
   ]
  },
  {
   "cell_type": "markdown",
   "metadata": {
    "id": "EbjogFSq--bH"
   },
   "source": [
    "## 2. File and Directory Operations\n",
    "- The `os` module in Python does not directly handle file I/O operations like opening, reading, or writing files.\n",
    "- Instead, it provides a way to interact with the operating system, which includes functionalities related to file system operations.\n",
    "\n",
    "### **Common Operations Provided by the `os` Module:**\n",
    "- **Navigating Directories**: Change the current working directory using `os.chdir()`.\n",
    "- **Listing Directory Contents**: List files and directories in a specified path using `os.listdir()`.\n",
    "- **Creating Directories**: Create new directories using `os.mkdir()` or `os.makedirs()` for nested directories.\n",
    "- **Removing Files and Directories**: Delete files with `os.remove()` and directories with `os.rmdir()` or `os.removedirs()` for nested directories.\n",
    "- **Renaming Files and Directories**: Rename using `os.rename()`.\n",
    "- **Getting Current Working Directory**: Retrieve the current directory with `os.getcwd()`.\n",
    "- **Checking Existence**: Check if a file or directory exists using `os.path.exists()`."
   ]
  },
  {
   "cell_type": "markdown",
   "metadata": {
    "id": "ZAnZs6kA_Q5l"
   },
   "source": [
    "### **2.1 Rename a file**"
   ]
  },
  {
   "cell_type": "markdown",
   "metadata": {
    "id": "HhXNDXrvBTFR"
   },
   "source": [
    "**Example 11**"
   ]
  },
  {
   "cell_type": "code",
   "execution_count": 17,
   "metadata": {
    "id": "z_NQ2aHQ-Pix"
   },
   "outputs": [],
   "source": [
    "import os\n",
    "os.rename(\"/content/drive/MyDrive/Colab Notebooks/lab7.txt\",\"/content/drive/MyDrive/Colab Notebooks/read_write.txt\")"
   ]
  },
  {
   "cell_type": "markdown",
   "metadata": {
    "id": "Atg3knVEAuDC"
   },
   "source": [
    "### **2.1 Delete a file**\n",
    "\n",
    "```os.remove(\"file_name\")```"
   ]
  },
  {
   "cell_type": "markdown",
   "metadata": {
    "id": "KDeGu-y3BPWH"
   },
   "source": [
    "**Example 12**"
   ]
  },
  {
   "cell_type": "code",
   "execution_count": 18,
   "metadata": {
    "colab": {
     "base_uri": "https://localhost:8080/"
    },
    "id": "bTBeJlFGApNr",
    "outputId": "08f7f8e9-4d5a-47c9-dfac-cbf23e6c2e81"
   },
   "outputs": [
    {
     "name": "stdout",
     "output_type": "stream",
     "text": [
      "File '/content/drive/MyDrive/Colab Notebooks/lab7.txt' not found.\n"
     ]
    }
   ],
   "source": [
    "try:\n",
    "  os.remove(\"/content/drive/MyDrive/Colab Notebooks/lab7_2.txt\")\n",
    "  print(f\"File '{file_path}' has been successfully removed.\")\n",
    "except FileNotFoundError:\n",
    "    print(f\"File '{file_path}' not found.\")\n",
    "except PermissionError:\n",
    "    print(f\"You do not have permission to delete '{file_path}'.\")\n",
    "except Exception as e:\n",
    "    print(f\"An error occurred: {e}\")"
   ]
  },
  {
   "cell_type": "markdown",
   "metadata": {
    "id": "nI3qxWMWBMjW"
   },
   "source": [
    "**Example 13:**\n",
    "- os.path.join is used to perform a dynamic action on the directory and the files in that directory"
   ]
  },
  {
   "cell_type": "code",
   "execution_count": 19,
   "metadata": {
    "id": "WKYIuqOsAzgo"
   },
   "outputs": [],
   "source": [
    "txt_dir=\"/content/drive/MyDrive/Colab Notebooks/\"\n",
    "for txt_file in os.listdir(txt_dir):\n",
    "  if txt_file.endswith('.txt'):\n",
    "    file_path_txt = os.path.join(txt_dir, txt_file)\n",
    "    try:\n",
    "      os.remove(file_path_txt)\n",
    "    except Exception as e:\n",
    "      print(f\"An error occurred: {e}\")"
   ]
  },
  {
   "cell_type": "markdown",
   "metadata": {
    "id": "0TVaqcZ-Brsp"
   },
   "source": [
    "# **3. Data Formats**\n",
    "### **3.1 JSON(JavaScript Object Notation)**\n",
    "**Example**\n",
    "```\n",
    "{\n",
    "    \"name\": \"John Doe\",\n",
    "    \"age\": 30,\n",
    "    \"is_employee\": true,\n",
    "    \"grades\": [95, 89, 92],\n",
    "    \"address\": {\n",
    "        \"street\": \"123 Main St\",\n",
    "        \"city\": \"New York\"\n",
    "    },\n",
    "    \"is_active\": false\n",
    "}\n",
    "```"
   ]
  },
  {
   "cell_type": "code",
   "execution_count": 20,
   "metadata": {
    "id": "6MBn4DF6Bbsk"
   },
   "outputs": [],
   "source": [
    "import json\n",
    "data= {\n",
    "    \"name\": \"John Doe\",\n",
    "    \"age\": 30,\n",
    "    \"is_employee\": True,\n",
    "    \"grades\": [95, 89, 92],\n",
    "    \"address\": {\n",
    "        \"street\": \"123 Main St\",\n",
    "        \"city\": \"New York\"\n",
    "    },\n",
    "    \"is_active\": False\n",
    "}\n",
    "with open(\"/content/drive/MyDrive/Colab Notebooks/lab7.json\",\"w\") as j_files:\n",
    "  json.dump(data,j_files)\n"
   ]
  },
  {
   "cell_type": "markdown",
   "metadata": {},
   "source": []
  },
  {
   "cell_type": "code",
   "execution_count": 21,
   "metadata": {
    "colab": {
     "base_uri": "https://localhost:8080/"
    },
    "id": "lx2vRRUZB2om",
    "outputId": "3712ce4f-2591-44df-85e3-62a107ed1dbf"
   },
   "outputs": [
    {
     "name": "stdout",
     "output_type": "stream",
     "text": [
      "{'name': 'John Doe', 'age': 30, 'is_employee': True, 'grades': [95, 89, 92], 'address': {'street': '123 Main St', 'city': 'New York'}, 'is_active': False}\n"
     ]
    }
   ],
   "source": [
    "with open(\"/content/drive/MyDrive/Colab Notebooks/lab7.json\",\"r\") as j_files:\n",
    "  j_data=json.load(j_files)\n",
    "\n",
    "print(j_data)"
   ]
  },
  {
   "cell_type": "code",
   "execution_count": null,
   "metadata": {
    "colab": {
     "base_uri": "https://localhost:8080/"
    },
    "id": "NDuzBTfJB50Y",
    "outputId": "887bf1ae-b94a-4c6e-9f3f-2110797ce144"
   },
   "outputs": [
    {
     "ename": "",
     "evalue": "",
     "output_type": "error",
     "traceback": [
      "\u001b[1;31mRunning cells with 'myenv (Python 3.8.18)' requires the ipykernel package.\n",
      "\u001b[1;31mRun the following command to install 'ipykernel' into the Python environment. \n",
      "\u001b[1;31mCommand: 'conda install -n myenv ipykernel --update-deps --force-reinstall'"
     ]
    }
   ],
   "source": [
    "print(\"Name: \",j_data['name'])\n",
    "print(\"Grades: \",j_data['grades'])"
   ]
  },
  {
   "cell_type": "code",
   "execution_count": null,
   "metadata": {
    "id": "U5XtZoqTB8e0"
   },
   "outputs": [],
   "source": []
  }
 ],
 "metadata": {
  "colab": {
   "provenance": []
  },
  "kernelspec": {
   "display_name": "Python 3 (ipykernel)",
   "language": "python",
   "name": "python3"
  },
  "language_info": {
   "codemirror_mode": {
    "name": "ipython",
    "version": 3
   },
   "file_extension": ".py",
   "mimetype": "text/x-python",
   "name": "python",
   "nbconvert_exporter": "python",
   "pygments_lexer": "ipython3",
   "version": "3.8.18"
  }
 },
 "nbformat": 4,
 "nbformat_minor": 4
}
