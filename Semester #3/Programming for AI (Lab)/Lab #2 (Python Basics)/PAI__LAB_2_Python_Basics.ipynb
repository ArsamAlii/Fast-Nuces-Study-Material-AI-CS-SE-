{
  "cells": [
    {
      "cell_type": "markdown",
      "metadata": {
        "id": "whj7WWyfi3KX"
      },
      "source": [
        "<div style=\"text-align:center; font-size:24px; font-weight:bold;\">AL2001-Programming For AI</div>\n",
        "<br>\n",
        "<div style=\"text-align:center; font-size:24px; font-weight:bold;\">Instructor: Muhammad Saad Rashad</div>\n",
        "<br>\n",
        "<div style=\"text-align:center; font-size:18px; font-weight:bold;\">email: saad.rashad@nu.edu.pk</div>\n"
      ]
    },
    {
      "cell_type": "markdown",
      "metadata": {
        "id": "KwOoEok6i3Ke"
      },
      "source": [
        "## **1.Expressions:**\n",
        "* Expressions consist of values (such as 2) and operators (such as +), and they can always evaluate (that is, reduce) down to a  single value."
      ]
    },
    {
      "cell_type": "code",
      "execution_count": 1,
      "metadata": {
        "colab": {
          "base_uri": "https://localhost:8080/"
        },
        "id": "W-2ltRUUi3Kg",
        "outputId": "4be2babe-0621-4256-a897-667060669adf"
      },
      "outputs": [
        {
          "data": {
            "text/plain": [
              "4"
            ]
          },
          "execution_count": 1,
          "metadata": {},
          "output_type": "execute_result"
        }
      ],
      "source": [
        "2 + 2 #Addition"
      ]
    },
    {
      "cell_type": "code",
      "execution_count": 2,
      "metadata": {
        "colab": {
          "base_uri": "https://localhost:8080/"
        },
        "id": "jENw15aSi3Kj",
        "outputId": "f3cae7b1-e9bc-4d12-a6d7-043cfc57d10f"
      },
      "outputs": [
        {
          "data": {
            "text/plain": [
              "-2"
            ]
          },
          "execution_count": 2,
          "metadata": {},
          "output_type": "execute_result"
        }
      ],
      "source": [
        "3 - 5 #Subtraction"
      ]
    },
    {
      "cell_type": "code",
      "execution_count": 3,
      "metadata": {
        "colab": {
          "base_uri": "https://localhost:8080/"
        },
        "id": "3Vfm_Zpei3Kk",
        "outputId": "4ae73a9b-2575-4d85-b366-cfe2a2ad220a"
      },
      "outputs": [
        {
          "data": {
            "text/plain": [
              "20"
            ]
          },
          "execution_count": 3,
          "metadata": {},
          "output_type": "execute_result"
        }
      ],
      "source": [
        "10 * 2 #Multiplication"
      ]
    },
    {
      "cell_type": "code",
      "execution_count": 4,
      "metadata": {
        "colab": {
          "base_uri": "https://localhost:8080/"
        },
        "id": "795iWCRPi3Kl",
        "outputId": "aa43b086-f7be-4ea8-f268-e5cc765dade5"
      },
      "outputs": [
        {
          "data": {
            "text/plain": [
              "6.0"
            ]
          },
          "execution_count": 4,
          "metadata": {},
          "output_type": "execute_result"
        }
      ],
      "source": [
        "30 / 5 #Division"
      ]
    },
    {
      "cell_type": "code",
      "execution_count": 5,
      "metadata": {
        "colab": {
          "base_uri": "https://localhost:8080/"
        },
        "id": "oseeIro3i3Kn",
        "outputId": "d4b59a5a-8311-44f7-fb1c-a26e62314154"
      },
      "outputs": [
        {
          "data": {
            "text/plain": [
              "0"
            ]
          },
          "execution_count": 5,
          "metadata": {},
          "output_type": "execute_result"
        }
      ],
      "source": [
        "20 % 4 #Remainder"
      ]
    },
    {
      "cell_type": "code",
      "execution_count": 6,
      "metadata": {
        "colab": {
          "base_uri": "https://localhost:8080/"
        },
        "id": "ErKDMllUi3Ko",
        "outputId": "9f7bcece-cfef-4eb5-eeb4-2fe0c34d85b7"
      },
      "outputs": [
        {
          "data": {
            "text/plain": [
              "9"
            ]
          },
          "execution_count": 6,
          "metadata": {},
          "output_type": "execute_result"
        }
      ],
      "source": [
        "3 ** 2 #Exponentiation (3 raised to the power 2)"
      ]
    },
    {
      "cell_type": "code",
      "execution_count": 7,
      "metadata": {
        "colab": {
          "base_uri": "https://localhost:8080/"
        },
        "id": "IHq9_nymi3Kq",
        "outputId": "95e634e2-b301-4a9a-e784-e5ba705d0c20"
      },
      "outputs": [
        {
          "data": {
            "text/plain": [
              "25.0"
            ]
          },
          "execution_count": 7,
          "metadata": {},
          "output_type": "execute_result"
        }
      ],
      "source": [
        "(2+3)*(10/2) #A Compound Expression"
      ]
    },
    {
      "cell_type": "markdown",
      "metadata": {
        "id": "sqK3Nh1-i3Ks"
      },
      "source": [
        "## 2. Variables:\n",
        "|Valid Variables   | Invalid variables   |\n",
        "|------------------|------------|\n",
        "| current_balance  | current-balance (hyphens are not allowed) |\n",
        "| currentBalance   | current balance (spaces are not allowed) |\n",
        "| account4         |4account (can’t begin with a number) |\n",
        "| \\_42             | 42 (can’t begin with a number) |\n",
        "| TOTAL_SUM        | TOTAL\\_$$UM (special characters like dollar signs are not allowed) |\n",
        "| hello            | 'hello' (special characters like ' are not allowed) |\n",
        "| str_literal      | str (built in keywords not allowed)"
      ]
    },
    {
      "cell_type": "markdown",
      "metadata": {
        "id": "VnITcjgVi3Kt"
      },
      "source": [
        "## 3. Data Types:\n",
        "* A data type is a category for values, and every value belongs to exactly one data type e.g Float, int and String. In Python you don't have to explicitly mention the data type. However in cases such as type casting or optimization it becomes a need."
      ]
    },
    {
      "cell_type": "code",
      "execution_count": 8,
      "metadata": {
        "colab": {
          "base_uri": "https://localhost:8080/"
        },
        "id": "9BnBrfUvi3Ku",
        "outputId": "955f2d1b-8922-4f88-c707-354242cfa591"
      },
      "outputs": [
        {
          "data": {
            "text/plain": [
              "7.2"
            ]
          },
          "execution_count": 8,
          "metadata": {},
          "output_type": "execute_result"
        }
      ],
      "source": [
        "2.3 + 4.9 #An example of float data type"
      ]
    },
    {
      "cell_type": "code",
      "execution_count": 9,
      "metadata": {
        "colab": {
          "base_uri": "https://localhost:8080/"
        },
        "id": "jEQG--IIi3Kv",
        "outputId": "b961fbca-b3d7-4181-afef-9cf9f2f2ea0c"
      },
      "outputs": [
        {
          "data": {
            "text/plain": [
              "3300"
            ]
          },
          "execution_count": 9,
          "metadata": {},
          "output_type": "execute_result"
        }
      ],
      "source": [
        "33 * 100 #An example of int Data Type"
      ]
    },
    {
      "cell_type": "code",
      "execution_count": 10,
      "metadata": {
        "colab": {
          "base_uri": "https://localhost:8080/",
          "height": 35
        },
        "id": "5vb205cPi3Kw",
        "outputId": "68fa88f4-250b-4b0a-a681-6c9d95995a6c"
      },
      "outputs": [
        {
          "data": {
            "application/vnd.google.colaboratory.intrinsic+json": {
              "type": "string"
            },
            "text/plain": [
              "'This an example of String Data Type'"
            ]
          },
          "execution_count": 10,
          "metadata": {},
          "output_type": "execute_result"
        }
      ],
      "source": [
        "\"This an example of String Data Type\""
      ]
    },
    {
      "cell_type": "markdown",
      "metadata": {
        "id": "WUcROGH8i3Kw"
      },
      "source": [
        "### 3.1. String Literals:\n",
        "* F-strings, also known as \"formatted string literals,\" are a feature introduced in Python 3.6 that allows you to embed expressions inside string literals, using curly braces {}. These expressions are evaluated at runtime and their values are formatted and inserted into the string."
      ]
    },
    {
      "cell_type": "code",
      "execution_count": 11,
      "metadata": {
        "colab": {
          "base_uri": "https://localhost:8080/",
          "height": 35
        },
        "id": "w6XXffMVi3Kx",
        "outputId": "2fb68982-b672-4073-f7f0-faa1334f84a9"
      },
      "outputs": [
        {
          "data": {
            "application/vnd.google.colaboratory.intrinsic+json": {
              "type": "string"
            },
            "text/plain": [
              "'This is how you can format a variable with any value e.g 45 into string'"
            ]
          },
          "execution_count": 11,
          "metadata": {},
          "output_type": "execute_result"
        }
      ],
      "source": [
        "variable = 45\n",
        "f\"This is how you can format a variable with any value e.g {variable} into string\""
      ]
    },
    {
      "cell_type": "markdown",
      "metadata": {
        "id": "4lwAEQ4ci3Ky"
      },
      "source": [
        "## 4. Print Function:\n",
        "* The print() function displays the string value inside its parentheses on the screen."
      ]
    },
    {
      "cell_type": "code",
      "execution_count": 12,
      "metadata": {
        "colab": {
          "base_uri": "https://localhost:8080/"
        },
        "id": "xX3jC9W8i3Kz",
        "outputId": "6b69b778-74ee-45aa-9109-d5366f9c4755"
      },
      "outputs": [
        {
          "name": "stdout",
          "output_type": "stream",
          "text": [
            "Hello World\n"
          ]
        }
      ],
      "source": [
        "print('Hello World')"
      ]
    },
    {
      "cell_type": "code",
      "execution_count": 13,
      "metadata": {
        "colab": {
          "base_uri": "https://localhost:8080/"
        },
        "id": "QojJC34fi3Kz",
        "outputId": "ee22c9d1-a907-49cf-8bfc-0cd05fa18f50"
      },
      "outputs": [
        {
          "name": "stdout",
          "output_type": "stream",
          "text": [
            "The size of the room is 15 feet and 12 inches\n"
          ]
        }
      ],
      "source": [
        "feet = 15\n",
        "inches = 12\n",
        "Room_size = f'The size of the room is {feet} feet and {inches} inches'\n",
        "print(Room_size)"
      ]
    },
    {
      "cell_type": "code",
      "execution_count": 3,
      "metadata": {
        "colab": {
          "base_uri": "https://localhost:8080/"
        },
        "id": "haMelhrhi3K0",
        "outputId": "ab70d7e8-7f3c-41f4-8757-a65d216d6871"
      },
      "outputs": [
        {
          "name": "stdout",
          "output_type": "stream",
          "text": [
            "300.00\n"
          ]
        }
      ],
      "source": [
        "length = 20\n",
        "width = 15\n",
        "area_of_triangle = length * width\n",
        "formated = f\"{area_of_triangle:.2f}\"\n",
        "print(formated)"
      ]
    },
    {
      "cell_type": "markdown",
      "metadata": {
        "id": "ejFrqjGvi3K0"
      },
      "source": [
        "## 5. Input Function:\n",
        "* The input() function waits for the user to type some text on the keyboard and press ENTER."
      ]
    },
    {
      "cell_type": "code",
      "execution_count": 15,
      "metadata": {
        "colab": {
          "base_uri": "https://localhost:8080/"
        },
        "id": "71sMr4sJi3K1",
        "outputId": "bedaf14e-29c8-4265-fccf-e44f2a67248d"
      },
      "outputs": [
        {
          "name": "stdout",
          "output_type": "stream",
          "text": [
            "saad\n",
            "The entered name is saad\n"
          ]
        }
      ],
      "source": [
        "name = input()\n",
        "print(f\"The entered name is {name}\")"
      ]
    },
    {
      "cell_type": "markdown",
      "metadata": {
        "id": "9xBvStQzi3K1"
      },
      "source": [
        "## 6. Length Function:\n",
        "* You can pass the len() function a string value (or a variable containing a string), and the function evaluates to the integer value of the number of characters in that string."
      ]
    },
    {
      "cell_type": "code",
      "execution_count": 16,
      "metadata": {
        "colab": {
          "base_uri": "https://localhost:8080/"
        },
        "id": "eXKIAIuIi3K1",
        "outputId": "3111ce0d-ecd6-4130-b1ed-07ef157b87c5"
      },
      "outputs": [
        {
          "name": "stdout",
          "output_type": "stream",
          "text": [
            "saad\n",
            "The entered name is saad and the length of the name is 4\n"
          ]
        }
      ],
      "source": [
        "name = input()\n",
        "print(f\"The entered name is {name} and the length of the name is {len(name)}\")"
      ]
    },
    {
      "cell_type": "markdown",
      "metadata": {
        "id": "ex1W8zNMi3K1"
      },
      "source": [
        "## 7. Type Casting:\n",
        "* Type casting, also known as type conversion, in Python refers to the process of changing an object's data type from one type to another"
      ]
    },
    {
      "cell_type": "code",
      "execution_count": 17,
      "metadata": {
        "colab": {
          "base_uri": "https://localhost:8080/"
        },
        "id": "0G_CGQ8wi3K3",
        "outputId": "9f6744bb-c17e-4545-ab41-ce4bd83dfbf5"
      },
      "outputs": [
        {
          "name": "stdout",
          "output_type": "stream",
          "text": [
            "20\n"
          ]
        }
      ],
      "source": [
        "age = 20\n",
        "type_casting_2_string = str(age)\n",
        "print(type_casting_2_string)\n"
      ]
    },
    {
      "cell_type": "code",
      "execution_count": 18,
      "metadata": {
        "colab": {
          "base_uri": "https://localhost:8080/"
        },
        "id": "xzA-Wn3Ci3K3",
        "outputId": "137b2cd8-7191-4147-9f6c-cff0a1081ff6"
      },
      "outputs": [
        {
          "name": "stdout",
          "output_type": "stream",
          "text": [
            "23\n"
          ]
        }
      ],
      "source": [
        "average_age = 23.55\n",
        "type_casting_2_int = int(average_age)\n",
        "print(type_casting_2_int)"
      ]
    },
    {
      "cell_type": "code",
      "execution_count": 19,
      "metadata": {
        "colab": {
          "base_uri": "https://localhost:8080/"
        },
        "id": "5XXDebXDi3K4",
        "outputId": "6b34080c-0735-4f7a-88be-785213959f6c"
      },
      "outputs": [
        {
          "name": "stdout",
          "output_type": "stream",
          "text": [
            "100.0\n"
          ]
        }
      ],
      "source": [
        "percentage = '100'\n",
        "type_casting_2_float = float(percentage)\n",
        "print(type_casting_2_float)"
      ]
    },
    {
      "cell_type": "markdown",
      "metadata": {
        "id": "zCYvd4xzi3K4"
      },
      "source": [
        "## 8. Operators:\n",
        "| Operator Name     | Operator Symbol | Description                                        |\n",
        "|-------------------|-----------------|----------------------------------------------------|\n",
        "| Addition          | `+`             | Adds two operands.                                |\n",
        "| Subtraction       | `-`             | Subtracts the right operand from the left operand. |\n",
        "| Multiplication    | `*`             | Multiplies two operands.                          |\n",
        "| Division          | `/`             | Divides the left operand by the right operand.    |\n",
        "| Floor Division    | `//`            | Performs floor division (removes the decimal part).|\n",
        "| Modulus           | `%`             | Returns the remainder after division.              |\n",
        "| Exponentiation    | `**`            | Raises the left operand to the power of the right. |\n",
        "| Assignment        | `=`             | Assigns a value to a variable.                    |\n",
        "| Equal To          | `==`            | Compares if two values are equal.                  |\n",
        "| Not Equal To      | `!=`            | Compares if two values are not equal.              |\n",
        "| Greater Than      | `>`             | Checks if the left operand is greater than the right.|\n",
        "| Less Than         | `<`             | Checks if the left operand is less than the right. |\n",
        "| Greater or Equal  | `>=`            | Checks if the left operand is greater than or equal to the right.|\n",
        "| Less or Equal     | `<=`            | Checks if the left operand is less than or equal to the right.   |\n",
        "| Logical AND       | `and`           | Returns True if both operands are True.            |\n",
        "| Logical OR        | `or`            | Returns True if at least one operand is True.      |\n",
        "| Logical NOT       | `not`           | Returns the opposite of the operand.               |\n",
        "| Membership (in)   | `in`            | Checks if a value is present in a sequence.        |\n",
        "| Identity (is)     | `is`            | Checks if two objects have the same identity.      |\n",
        "| Bitwise AND       | `&`             | Performs bitwise AND on integer values.           |\n",
        "| Bitwise OR        | `\\|`             | Performs bitwise OR on integer values.            |\n",
        "| Bitwise XOR       | `^`             | Performs bitwise XOR on integer values.           |\n",
        "| Bitwise NOT       | `~`             | Performs bitwise NOT on an integer value.         |\n",
        "| Left Shift        | `<<`            | Shifts the bits of an integer to the left.        |\n",
        "| Right Shift       | `>>`            | Shifts the bits of an integer to the right.       |\n"
      ]
    },
    {
      "cell_type": "markdown",
      "metadata": {
        "id": "vpcInHKdi3K5"
      },
      "source": [
        "## 9. Control Flow - Branching:\n",
        "* Control flow branching, often simply referred to as \"branching,\" is a fundamental concept in programming that involves making decisions and directing the flow of a program's execution based on certain conditions"
      ]
    },
    {
      "cell_type": "code",
      "execution_count": 21,
      "metadata": {
        "colab": {
          "base_uri": "https://localhost:8080/"
        },
        "id": "erVR6geqi3K5",
        "outputId": "6d0b88c4-4c41-42c0-a369-054698531b5e"
      },
      "outputs": [
        {
          "name": "stdout",
          "output_type": "stream",
          "text": [
            "Enter a number for num_1: 2\n",
            "Enter a number for num_2: 10\n",
            "Division Result: 0.2\n"
          ]
        }
      ],
      "source": [
        "num_1 = float(input(\"Enter a number for num_1: \"))\n",
        "num_2 = float(input(\"Enter a number for num_2: \"))\n",
        "answer = 0\n",
        "\n",
        "if num_1 > num_2:\n",
        "  answer = num_1 * num_2\n",
        "  print(\"Multiplication Result:\", answer)\n",
        "else:\n",
        "    answer = num_1 / num_2\n",
        "    print(\"Division Result:\", answer)\n"
      ]
    },
    {
      "cell_type": "code",
      "execution_count": null,
      "metadata": {
        "id": "u0r-MoUki3K5",
        "outputId": "25ca4bdc-e12c-4cb6-bcac-8e2ab72e9bfa"
      },
      "outputs": [
        {
          "name": "stdout",
          "output_type": "stream",
          "text": [
            "Enter a number for num_1: 30\n",
            "Enter a number for num_2: 30\n",
            "Division Result: 60.0\n"
          ]
        }
      ],
      "source": [
        "num_1 = float(input(\"Enter a number for num_1: \"))\n",
        "num_2 = float(input(\"Enter a number for num_2: \"))\n",
        "answer = 0\n",
        "\n",
        "if num_1 > num_2:\n",
        "    answer = num_1 * num_2\n",
        "    print(\"Multiplication Result:\", answer)\n",
        "elif num_1 < num_2:\n",
        "    answer = num_1 / num_2\n",
        "    print(\"Division Result:\", answer)\n",
        "else:\n",
        "    answer = num_1 + num_2\n",
        "    print(\"Division Result:\", answer)"
      ]
    },
    {
      "cell_type": "markdown",
      "metadata": {
        "id": "MrD00y4_i3K6"
      },
      "source": [
        "## 10. Control Flow - Iteration:\n",
        "* Control flow iteration refers to the process of repeatedly executing a block of code, typically within a loop, until a certain condition is met\n",
        " - i. While Loop: ubounded number of iteration\n",
        " - ii. For Loop: known number of iteration  "
      ]
    },
    {
      "cell_type": "code",
      "execution_count": 22,
      "metadata": {
        "colab": {
          "base_uri": "https://localhost:8080/"
        },
        "id": "wwmr44q_i3K6",
        "outputId": "ef8471af-c499-4f85-813f-5ea64d0219f2",
        "scrolled": true
      },
      "outputs": [
        {
          "name": "stdout",
          "output_type": "stream",
          "text": [
            "You are in the Lost Forest\n",
            "****************\n",
            "****************\n",
            " :)\n",
            "****************\n",
            "****************\n",
            "Go left or right? right\n",
            "You are in the Lost Forest\n",
            "****************\n",
            "******       ***\n",
            "  (╯°□°）╯︵ ┻━┻\n",
            "****************\n",
            "****************\n",
            "Go left or right? right\n",
            "You are in the Lost Forest\n",
            "****************\n",
            "******       ***\n",
            "  (╯°□°）╯︵ ┻━┻\n",
            "****************\n",
            "****************\n",
            "Go left or right? left\n",
            "\n",
            "You got out of the Lost Forest!\n",
            "\\o/\n"
          ]
        }
      ],
      "source": [
        "n = input(\"You are in the Lost Forest\\n****************\\n****************\\n :)\\n****************\\n****************\\nGo left or right? \")\n",
        "while n == \"right\" or n == \"Right\":\n",
        "    n = input(\"You are in the Lost Forest\\n****************\\n******       ***\\n  (╯°□°）╯︵ ┻━┻\\n****************\\n****************\\nGo left or right? \")\n",
        "print(\"\\nYou got out of the Lost Forest!\\n\\o/\")"
      ]
    },
    {
      "cell_type": "code",
      "execution_count": 23,
      "metadata": {
        "colab": {
          "base_uri": "https://localhost:8080/"
        },
        "id": "rdYni-rxi3K7",
        "outputId": "d8ef2891-0baa-4f88-d51d-bf3a1a01c229"
      },
      "outputs": [
        {
          "name": "stdout",
          "output_type": "stream",
          "text": [
            "0\n",
            "1\n",
            "2\n",
            "3\n",
            "4\n",
            "5\n",
            "6\n",
            "7\n",
            "8\n",
            "9\n"
          ]
        }
      ],
      "source": [
        "number=0\n",
        "while number < 10:\n",
        "    print(number)\n",
        "    number=number+1"
      ]
    },
    {
      "cell_type": "code",
      "execution_count": null,
      "metadata": {
        "colab": {
          "base_uri": "https://localhost:8080/"
        },
        "id": "EUrmetN8i3K8",
        "outputId": "c6cb4d8b-ae3c-48c8-e4d7-0f512675e619"
      },
      "outputs": [
        {
          "name": "stdout",
          "output_type": "stream",
          "text": [
            "1\n",
            "2\n",
            "3\n",
            "4\n",
            "5\n",
            "6\n",
            "7\n",
            "8\n",
            "9\n",
            "10\n"
          ]
        }
      ],
      "source": [
        "numcount=0\n",
        "for i in range(0,10):  #range(start,stop) the start is insclusive whereas stop is exclusive or in other words stop-1\n",
        "    numcount+=1\n",
        "    print(numcount)"
      ]
    },
    {
      "cell_type": "code",
      "execution_count": null,
      "metadata": {
        "id": "LHqatyugi3K8",
        "outputId": "f8cad8fd-03b4-49e1-d4d0-816f7bbc2061"
      },
      "outputs": [
        {
          "name": "stdout",
          "output_type": "stream",
          "text": [
            "Welcome to the Enchanted Forest!\n",
            "You are about to embark on a magical adventure.\n",
            "You have five steps to explore the forest.\n",
            "Step 1: Choose your path (left/right): left\n",
            "You encountered a friendly forest creature.\n",
            "Step 2: Choose your path (left/right): right\n",
            "You found a hidden treasure chest!\n",
            "Step 3: Choose your path (left/right): right\n",
            "You found a hidden treasure chest!\n",
            "Step 4: Choose your path (left/right): left\n",
            "You encountered a friendly forest creature.\n",
            "Step 5: Choose your path (left/right): left\n",
            "You encountered a friendly forest creature.\n",
            "Congratulations! You successfully explored the Enchanted Forest.\n"
          ]
        }
      ],
      "source": [
        "print(\"Welcome to the Enchanted Forest!\")\n",
        "print(\"You are about to embark on a magical adventure.\")\n",
        "print(\"You have five steps to explore the forest.\")\n",
        "\n",
        "for step in range(1, 6):#6-1 this loop will work 5 times\n",
        "    choice = input(f\"Step {step}: Choose your path (left/right): \")\n",
        "\n",
        "    if choice.lower() == \"left\": #lower() convert a string to lower case\n",
        "        print(\"You encountered a friendly forest creature.\")\n",
        "    elif choice.lower() == \"right\":\n",
        "        print(\"You found a hidden treasure chest!\")\n",
        "    else:\n",
        "        print(\"Invalid choice. You must choose 'left' or 'right'.\")\n",
        "\n",
        "print(\"Congratulations! You successfully explored the Enchanted Forest.\")"
      ]
    },
    {
      "cell_type": "markdown",
      "metadata": {
        "id": "VbBfHzfKjeH3"
      },
      "source": [
        "# **11. Functions**\n",
        "- You’re already familiar with the print(), input(), and len() functions from the previous chapters. Python provides several built-in functions like these, but you can also write your own functions. A function is like a miniprogram within a program.\n",
        "\n"
      ]
    },
    {
      "cell_type": "code",
      "execution_count": null,
      "metadata": {
        "id": "DbpJKYAmjhIm"
      },
      "outputs": [],
      "source": [
        "def hello(): #def is the key word to define a function name hello\n",
        "  print(\"Hello\")\n",
        "  print(\"Howdy\")\n",
        "  print(\"how are you doing???\")\n",
        "\n",
        "hello()"
      ]
    },
    {
      "cell_type": "code",
      "execution_count": null,
      "metadata": {
        "id": "RlOucaFvj1nF"
      },
      "outputs": [],
      "source": [
        "def lostforest():\n",
        "  print(\"Welcome to the Enchanted Forest!\")\n",
        "  print(\"You are about to embark on a magical adventure.\")\n",
        "  print(\"You have five steps to explore the forest.\")\n",
        "\n",
        "  for step in range(1, 6):\n",
        "    choice = input(f\"Step {step}: Choose your path (left/right): \")\n",
        "\n",
        "    if choice.lower() == \"left\": #lower() convert a string to lower case\n",
        "        print(\"You encountered a friendly forest creature.\")\n",
        "    elif choice.lower() == \"right\":\n",
        "        print(\"You found a hidden treasure chest!\")\n",
        "    else:\n",
        "        print(\"Invalid choice. You must choose 'left' or 'right'.\")\n",
        "\n",
        "  print(\"Congratulations! You successfully explored the Enchanted Forest.\")\n",
        "  print(\"Do you want to play again? Press y for yes\")\n",
        "  again=input()\n",
        "  if again.lower()=='y':\n",
        "    lostforest()\n",
        "\n",
        "lostforest()"
      ]
    },
    {
      "cell_type": "markdown",
      "metadata": {
        "id": "E91K9evmkBAc"
      },
      "source": [
        "## 11.1 Function Parameters:"
      ]
    },
    {
      "cell_type": "code",
      "execution_count": null,
      "metadata": {
        "id": "_kXUl1l9kBjj"
      },
      "outputs": [],
      "source": [
        "def myname(name):\n",
        "  print('hello '+name)\n",
        "\n",
        "myname('AI-Bot')"
      ]
    },
    {
      "cell_type": "markdown",
      "metadata": {
        "id": "xbiDbU5UkSvp"
      },
      "source": [
        "## 11.2 Return Value and Statment:"
      ]
    },
    {
      "cell_type": "code",
      "execution_count": null,
      "metadata": {
        "id": "EwOl6C60kTkW"
      },
      "outputs": [],
      "source": [
        "import random\n",
        "def getAnswer(answerNumber):\n",
        "  if answerNumber == 1:\n",
        "    return 'It is certain'\n",
        "  elif answerNumber == 2:\n",
        "    return 'It is decidedly so'\n",
        "  elif answerNumber == 3:\n",
        "    return 'Yes'\n",
        "  elif answerNumber == 4:\n",
        "    return 'Reply hazy try again'\n",
        "  elif answerNumber == 5:\n",
        "     return 'Ask again later'\n",
        "  elif answerNumber == 6:\n",
        "    return 'Concentrate and ask again'\n",
        "  elif answerNumber == 7:\n",
        "    return 'My reply is no'\n",
        "  elif answerNumber == 8:\n",
        "    return 'Outlook not so good'\n",
        "  elif answerNumber == 9:\n",
        "    return 'Very doubtful'\n",
        "\n",
        "r = random.randint(1,9)\n",
        "fortune = getAnswer(r)\n",
        "print(fortune)"
      ]
    },
    {
      "cell_type": "markdown",
      "metadata": {
        "id": "pjUZJbRImB9U"
      },
      "source": [
        "**Task 1:**\n",
        "Write a Python program that asks the user for a positive integer n. Then, calculate the\n",
        "sum of all positive integers from 1 to n, inclusive. Display the result using an f-string."
      ]
    },
    {
      "cell_type": "markdown",
      "metadata": {
        "id": "2kLa5JsgmY6X"
      },
      "source": [
        "**Task 2:**\n",
        "Write a Python program where the player explores a haunted mansion and must choose their path wisely to reach the end. Also customize the game according your imagination and give it a unique storyline. In the story if a character dies he/she will randomly spawn in different rooms each time he/she dies. Make sure to use user defined functions specially for the **spawning** aspect of the story"
      ]
    },
    {
      "cell_type": "code",
      "execution_count": null,
      "metadata": {
        "id": "n1kW5o3PmIPV"
      },
      "outputs": [],
      "source": []
    }
  ],
  "metadata": {
    "colab": {
      "provenance": []
    },
    "kernelspec": {
      "display_name": "Python 3",
      "language": "python",
      "name": "python3"
    },
    "language_info": {
      "codemirror_mode": {
        "name": "ipython",
        "version": 3
      },
      "file_extension": ".py",
      "mimetype": "text/x-python",
      "name": "python",
      "nbconvert_exporter": "python",
      "pygments_lexer": "ipython3",
      "version": "3.8.20"
    }
  },
  "nbformat": 4,
  "nbformat_minor": 0
}
