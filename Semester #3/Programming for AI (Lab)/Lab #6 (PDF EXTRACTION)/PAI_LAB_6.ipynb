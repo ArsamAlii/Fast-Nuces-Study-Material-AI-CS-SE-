{
  "cells": [
    {
      "cell_type": "markdown",
      "metadata": {
        "id": "whj7WWyfi3KX"
      },
      "source": [
        "<div style=\"text-align:center; font-size:24px; font-weight:bold;\">AL2001-Programming For AI</div>\n",
        "<br>\n",
        "<div style=\"text-align:center; font-size:24px; font-weight:bold;\">Instructor: Muhammad Saad Rashad</div>\n",
        "<br>\n",
        "<div style=\"text-align:center; font-size:18px; font-weight:bold;\">email: saad.rashad@nu.edu.pk</div>\n"
      ]
    },
    {
      "cell_type": "markdown",
      "source": [
        " # **DATA EXTRACTION**"
      ],
      "metadata": {
        "id": "m_B-aMXpw0vv"
      }
    },
    {
      "cell_type": "markdown",
      "source": [
        "## **1. PDFs(Portable Document Format):**\n",
        "-  a file format developed by Adobe to present documents in a manner independent of application software, hardware, and operating systems.\n",
        "\n",
        "### **1.1 Characteristics:**\n",
        "- **Fixed Layout:** PDFs preserve the layout, fonts, images, and graphics of any source document, which makes them ideal for sharing formatted documents.\n",
        "- **Cross Platform:** They can be viewed and printed on any device without requiring the original application used to create them.\n",
        "- **Secure:** PDFs can include security features such as encryption, password protection, and digital signatures.\n",
        "\n",
        "### **1.2 Why Extract Data From PDFs:**\n",
        "- **Data Accessibilty:** Many organizations still use PDFs for their documents, making it necessary to extract data for use in databases, analytics, and machine learning applications.\n",
        "\n",
        "\n",
        "\n",
        "- **Diverse Use Cases Like:**\n",
        "  - **Research Papers**: Extracting data for analysis, citations, and literature reviews.\n",
        "  - **Invoices and Receipts**: Automating data entry processes to save time and reduce errors.\n",
        "  - **Reports**: Extracting tables, charts, and figures for further data analysis or visualization.\n",
        "\n",
        "### **1.3 Challenges in PDF Extraction**\n",
        "\n",
        "- **Unstructured Data**\n",
        "  - **Text Flow**: Text may not flow linearly; it could be arranged in multiple columns or layers, making extraction complicated.\n",
        "  - **Mixed Content**: PDFs may contain text, images, tables, and graphical elements all in one document, requiring different extraction strategies for each type.\n",
        "\n",
        "- **Encoding Issues**\n",
        "Some PDFs may use non-standard encodings or may be scanned images rather than text documents, complicating the extraction process.\n",
        "\n",
        "- **Inconsistent Layout:**\n",
        "Different documents have different layouts; for instance, page numbers may be in headers, footers, or embedded within the text body. This inconsistency requires custom extraction logic.\n",
        "\n",
        "### 1.4 Real-World Examples\n",
        "\n",
        "- **Academic Research**: Researchers often need to extract data from multiple studies, which are typically published as PDFs. This could involve gathering references, author information, or specific data points for meta-analysis.\n",
        "\n",
        "- **Financial Documents**: Companies often receive invoices in PDF format. Automating the extraction of payment details (like invoice number, date, and total amount) helps streamline accounting processes.\n",
        "\n",
        "- **Legal Documents**: Law firms deal with contracts and legal briefs that are often in PDF format. Extracting clauses, dates, and involved parties can save significant time in legal research.\n",
        "\n"
      ],
      "metadata": {
        "id": "G8uaCrPkxygK"
      }
    },
    {
      "cell_type": "markdown",
      "source": [
        "**Here are some PDF Python Libraries**\n",
        "\n",
        "\n",
        "| Library         | Main Features                                | Best For                               |\n",
        "|------------------|----------------------------------------------|----------------------------------------|\n",
        "| pdfminer.six    | Low-level text and layout extraction         | Complex PDF layouts and detailed text  |\n",
        "| PyPDF2          | Basic text extraction, merging, splitting    | Simple tasks, manipulating PDFs        |\n",
        "| PDFplumber      | Text, table, and image extraction            | Extracting tables and detailed layouts  |\n",
        "| PyMuPDF (fitz)  | Fast text extraction, image extraction, rendering | High-speed text and image extraction   |\n",
        "| Camelot         | Table extraction                             | Extracting tables                      |\n",
        "| Tabula-py       | Table extraction, exports to DataFrame      | Data analysis, handling tables         |\n",
        "| Tika            | Metadata and text extraction for many formats | Handling multiple document formats     |\n",
        "| Slate           | Simple text extraction                       | Quick, lightweight extraction          |\n",
        "| pdfrw           | Reading, writing, merging, and splitting PDFs | Manipulating PDF structure             |\n",
        "| pdfquery        | XPath-like querying for PDFs                 | Position-based text extraction         |\n"
      ],
      "metadata": {
        "id": "HqJEtmoJbuCZ"
      }
    },
    {
      "cell_type": "code",
      "source": [
        "from google.colab import drive\n",
        "drive.mount('/content/drive')"
      ],
      "metadata": {
        "colab": {
          "base_uri": "https://localhost:8080/",
          "height": 0
        },
        "id": "WvoG-SK0dmM_",
        "outputId": "26580787-eaa8-46c9-fb29-e4acfdf74b77"
      },
      "execution_count": 1,
      "outputs": [
        {
          "output_type": "stream",
          "name": "stdout",
          "text": [
            "Mounted at /content/drive\n"
          ]
        }
      ]
    },
    {
      "cell_type": "code",
      "source": [
        "pip install pdfminer.six\n"
      ],
      "metadata": {
        "colab": {
          "base_uri": "https://localhost:8080/",
          "height": 0
        },
        "id": "fZjNIdGweEK3",
        "outputId": "03340d49-e0e7-485e-f3af-3bac1a6325cf"
      },
      "execution_count": 3,
      "outputs": [
        {
          "output_type": "stream",
          "name": "stdout",
          "text": [
            "Collecting pdfminer.six\n",
            "  Downloading pdfminer.six-20240706-py3-none-any.whl.metadata (4.1 kB)\n",
            "Requirement already satisfied: charset-normalizer>=2.0.0 in /usr/local/lib/python3.10/dist-packages (from pdfminer.six) (3.3.2)\n",
            "Requirement already satisfied: cryptography>=36.0.0 in /usr/local/lib/python3.10/dist-packages (from pdfminer.six) (43.0.1)\n",
            "Requirement already satisfied: cffi>=1.12 in /usr/local/lib/python3.10/dist-packages (from cryptography>=36.0.0->pdfminer.six) (1.17.1)\n",
            "Requirement already satisfied: pycparser in /usr/local/lib/python3.10/dist-packages (from cffi>=1.12->cryptography>=36.0.0->pdfminer.six) (2.22)\n",
            "Downloading pdfminer.six-20240706-py3-none-any.whl (5.6 MB)\n",
            "\u001b[2K   \u001b[90m━━━━━━━━━━━━━━━━━━━━━━━━━━━━━━━━━━━━━━━━\u001b[0m \u001b[32m5.6/5.6 MB\u001b[0m \u001b[31m34.8 MB/s\u001b[0m eta \u001b[36m0:00:00\u001b[0m\n",
            "\u001b[?25hInstalling collected packages: pdfminer.six\n",
            "Successfully installed pdfminer.six-20240706\n"
          ]
        }
      ]
    },
    {
      "cell_type": "markdown",
      "source": [
        "**Example 1:**"
      ],
      "metadata": {
        "id": "1ewIg0lvx7KH"
      }
    },
    {
      "cell_type": "code",
      "source": [
        "from pdfminer.high_level import extract_text\n",
        "\n",
        "def count_words_in_pdf(pdf_path):\n",
        "    # Extract the entire text from the PDF\n",
        "    text = extract_text(pdf_path)\n",
        "\n",
        "    # Split the text into words (by whitespace or newlines)\n",
        "    words = text.split()\n",
        "\n",
        "    # Count the number of words\n",
        "    word_count = len(words)\n",
        "\n",
        "    return word_count\n",
        "\n",
        "# Example usage\n",
        "pdf_path = \"/content/drive/MyDrive/Saad Rashad Thesis Report v8.pdf\"\n",
        "total_words = count_words_in_pdf(pdf_path)\n",
        "print(f\"Total number of words: {total_words}\")\n",
        "\n"
      ],
      "metadata": {
        "colab": {
          "base_uri": "https://localhost:8080/",
          "height": 0
        },
        "id": "TeJYVdPKh1RB",
        "outputId": "1be07e3b-7a48-4871-a4d8-cecd2a332eaf"
      },
      "execution_count": 11,
      "outputs": [
        {
          "output_type": "stream",
          "name": "stdout",
          "text": [
            "Total number of words: 16766\n"
          ]
        }
      ]
    },
    {
      "cell_type": "markdown",
      "source": [
        "**Example 2:**"
      ],
      "metadata": {
        "id": "5RU9kCWUkDlV"
      }
    },
    {
      "cell_type": "code",
      "source": [
        "from pdfminer.high_level import extract_text\n",
        "\n",
        "def count_characters_in_pdf(pdf_path):\n",
        "    # Extract the entire text from the PDF\n",
        "    text = extract_text(pdf_path)\n",
        "\n",
        "    # Count the number of characters (including spaces)\n",
        "    character_count = len(text)\n",
        "\n",
        "    return character_count\n",
        "\n",
        "# Example usage\n",
        "pdf_path = \"/content/drive/MyDrive/Saad Rashad Thesis Report v8.pdf\"\n",
        "total_characters = count_characters_in_pdf(pdf_path)\n",
        "print(f\"Total number of characters: {total_characters}\")\n"
      ],
      "metadata": {
        "colab": {
          "base_uri": "https://localhost:8080/",
          "height": 0
        },
        "id": "V0rgQdLqi-ou",
        "outputId": "b3bd8171-b40c-4bb9-b355-2a995eda6cc7"
      },
      "execution_count": 13,
      "outputs": [
        {
          "output_type": "stream",
          "name": "stdout",
          "text": [
            "Total number of characters: 94982\n"
          ]
        }
      ]
    },
    {
      "cell_type": "markdown",
      "source": [
        "**Example 3:**"
      ],
      "metadata": {
        "id": "OaaARSr_kFQH"
      }
    },
    {
      "cell_type": "code",
      "source": [
        "from pdfminer.high_level import extract_text\n",
        "\n",
        "def count_characters_excluding_spaces(pdf_path):\n",
        "    # Extract the entire text from the PDF\n",
        "    text = extract_text(pdf_path)\n",
        "\n",
        "    # Remove white spaces (spaces, newlines, and tabs)\n",
        "    text_no_spaces = text.replace(\" \", \"\").replace(\"\\n\", \"\").replace(\"\\t\", \"\")\n",
        "\n",
        "    # Count the number of characters excluding white spaces\n",
        "    character_count = len(text_no_spaces)\n",
        "\n",
        "    return character_count\n",
        "\n",
        "# Example usage\n",
        "pdf_path = \"/content/drive/MyDrive/Saad Rashad Thesis Report v8.pdf\"\n",
        "total_characters = count_characters_excluding_spaces(pdf_path)\n",
        "print(f\"Total number of characters (excluding spaces): {total_characters}\")\n"
      ],
      "metadata": {
        "colab": {
          "base_uri": "https://localhost:8080/",
          "height": 0
        },
        "id": "Na5YetOcjNIm",
        "outputId": "6cbaa06c-c85c-4ade-8835-a411682636bb"
      },
      "execution_count": 14,
      "outputs": [
        {
          "output_type": "stream",
          "name": "stdout",
          "text": [
            "Total number of characters (excluding spaces): 76179\n"
          ]
        }
      ]
    },
    {
      "cell_type": "markdown",
      "source": [
        "**Example 4:**"
      ],
      "metadata": {
        "id": "eGwNJJWzkHTY"
      }
    },
    {
      "cell_type": "code",
      "source": [
        "from pdfminer.high_level import extract_text\n",
        "\n",
        "def extract_all_text(pdf_path):\n",
        "    return extract_text(pdf_path)\n",
        "\n",
        "# Usage\n",
        "all_text = extract_all_text(\"/content/drive/MyDrive/PFAI/PAI-LAB Manuals.pdf\")\n",
        "print(all_text)\n"
      ],
      "metadata": {
        "id": "jAkAmYy4rlM8"
      },
      "execution_count": null,
      "outputs": []
    },
    {
      "cell_type": "markdown",
      "source": [
        "**OR**"
      ],
      "metadata": {
        "id": "SbkS2FtSrmVs"
      }
    },
    {
      "cell_type": "code",
      "source": [
        "from pdfminer.high_level import extract_pages\n",
        "from pdfminer.layout import LTTextBox\n",
        "\n",
        "# Open the PDF and process each page\n",
        "for page_layout in extract_pages(\"/content/drive/MyDrive/PFAI/PAI-LAB Manuals.pdf\"):\n",
        "    # For each page, loop through the elements in the layout\n",
        "    for element in page_layout:\n",
        "        # Check if the element is a block of text\n",
        "        if isinstance(element, LTTextBox):\n",
        "            # Extract and print the text in this text box\n",
        "            print(element.get_text())"
      ],
      "metadata": {
        "id": "KMFDnh0kjc5W"
      },
      "execution_count": null,
      "outputs": []
    },
    {
      "cell_type": "markdown",
      "source": [
        "**Example 5:**"
      ],
      "metadata": {
        "id": "H39tfnpOkJIO"
      }
    },
    {
      "cell_type": "code",
      "source": [
        "from pdfminer.high_level import extract_pages\n",
        "from pdfminer.layout import LTTextBox, LTTextLine, LTChar\n",
        "\n",
        "def extract_headings(pdf_path):\n",
        "    headings = []\n",
        "\n",
        "    # Loop through each page of the PDF\n",
        "    for page_layout in extract_pages(pdf_path):\n",
        "        # Loop through the elements on each page\n",
        "        for element in page_layout:\n",
        "            if isinstance(element, LTTextBox):  # Check if the element is a text box\n",
        "                for text_line in element:\n",
        "                    if isinstance(text_line, LTTextLine):  # Check if it's a line of text\n",
        "                        for character in text_line:\n",
        "                            if isinstance(character, LTChar):  # Check individual characters\n",
        "                                # Filter based on font size or boldness (e.g., font size > 12)\n",
        "                                if character.size > 12:  # This threshold can be adjusted\n",
        "                                    heading_text = text_line.get_text().strip()\n",
        "                                    headings.append(heading_text)\n",
        "                                    break\n",
        "    return headings\n",
        "\n",
        "# Example usage\n",
        "pdf_path = \"/content/drive/MyDrive/PFAI/PAI-LAB Manuals.pdf\"\n",
        "headings = extract_headings(pdf_path)\n",
        "for heading in headings:\n",
        "    print(heading)"
      ],
      "metadata": {
        "id": "yRT47dOIjivm"
      },
      "execution_count": null,
      "outputs": []
    },
    {
      "cell_type": "markdown",
      "source": [
        "# **Tasks**"
      ],
      "metadata": {
        "id": "2l76VsIBkX3d"
      }
    },
    {
      "cell_type": "markdown",
      "source": [
        "1. **WEB SCARPPING**: As you have covered web scrapping in Theory class along with code examples\n",
        "- Scrape a website that lists books (e.g., Goodreads, Amazon, Readings.pk etc) and collect information such as title, author, rating, and price and store it in a dictiornary\n",
        "**example:*  {\"Author Name\":\"Viktor Frank\",\"Title\":\"Man's Search For Meaning\",\"etc\"}"
      ],
      "metadata": {
        "id": "c6lLa4B6kb1v"
      }
    },
    {
      "cell_type": "markdown",
      "source": [
        "2. **PDF Mining:** Extract only headings (e.g., Main titles) from  multiple PDF documents based on font size or style and store the value in single dictionary.\n",
        "\n",
        "*Example:* {\"Title 1\": \"7 habits of Highly Effective People\",\"Title 2\": \"Power of Habit\", \"Title 3: Alchemist\"}"
      ],
      "metadata": {
        "id": "H6YKuQUbmJs2"
      }
    }
  ],
  "metadata": {
    "kernelspec": {
      "display_name": "Python 3",
      "language": "python",
      "name": "python3"
    },
    "language_info": {
      "codemirror_mode": {
        "name": "ipython",
        "version": 3
      },
      "file_extension": ".py",
      "mimetype": "text/x-python",
      "name": "python",
      "nbconvert_exporter": "python",
      "pygments_lexer": "ipython3",
      "version": "3.8.5"
    },
    "colab": {
      "provenance": []
    }
  },
  "nbformat": 4,
  "nbformat_minor": 0
}